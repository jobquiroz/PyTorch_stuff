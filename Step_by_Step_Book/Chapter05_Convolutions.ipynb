{
 "cells": [
  {
   "cell_type": "markdown",
   "metadata": {},
   "source": [
    "# Deep Learning with PyTorch Step-by-Step: A Beginner's Guide"
   ]
  },
  {
   "cell_type": "markdown",
   "metadata": {},
   "source": [
    "# Chapter 5"
   ]
  },
  {
   "cell_type": "code",
   "execution_count": 2,
   "metadata": {},
   "outputs": [
    {
     "data": {
      "text/html": [
       "<style>.container { width:80% !important; }</style>"
      ],
      "text/plain": [
       "<IPython.core.display.HTML object>"
      ]
     },
     "metadata": {},
     "output_type": "display_data"
    }
   ],
   "source": [
    "from IPython.core.display import display, HTML\n",
    "display(HTML(\"<style>.container { width:80% !important; }</style>\"))"
   ]
  },
  {
   "cell_type": "code",
   "execution_count": 3,
   "metadata": {},
   "outputs": [],
   "source": [
    "from config import *\n",
    "\n",
    "# This is needed to render the plots in this chapter\n",
    "from plots.chapter5 import *"
   ]
  },
  {
   "cell_type": "code",
   "execution_count": 4,
   "metadata": {},
   "outputs": [],
   "source": [
    "import random\n",
    "import numpy as np\n",
    "from PIL import Image\n",
    "\n",
    "import torch\n",
    "import torch.optim as optim\n",
    "import torch.nn as nn\n",
    "import torch.nn.functional as F\n",
    "\n",
    "from torch.utils.data import DataLoader, Dataset\n",
    "from torchvision.transforms import Compose, Normalize\n",
    "\n",
    "from data_generation.image_classification import generate_dataset\n",
    "from helpers import index_splitter, make_balanced_sampler\n",
    "from stepbystep.v1 import StepByStep"
   ]
  },
  {
   "cell_type": "markdown",
   "metadata": {},
   "source": [
    "# Convolutions\n",
    "\n",
    "A convolution is \"a mathematical operation on two functions (f and g) that produces a\n",
    "third function (f * g) expressing how the shape of one is modified by the other\"[87]. In\n",
    "image processing, a convolution matrix is also called a kernel or filter. Typical\n",
    "image processing operations, like blurring, sharpening, edge detection, and more are\n",
    "accomplished by performing a convolution between a kernel and an image."
   ]
  },
  {
   "cell_type": "markdown",
   "metadata": {},
   "source": [
    "## Filter / Kernel\n",
    "\n",
    "Simply put, one defines a filter (or kernel, but we’re sticking with filter here), and\n",
    "applies this filter to an image (that is, convolving an image). Usually, the filters are\n",
    "small square matrices. The convolution itself is performed by applying the filter on\n",
    "the image repeatedly. Let’s try a concrete example to make it more clear.\n",
    "\n",
    "We’re using a single-channel image, and the most boring filter ever, the identity\n",
    "filter:"
   ]
  },
  {
   "cell_type": "markdown",
   "metadata": {},
   "source": [
    "![](./images/conv1.png)"
   ]
  },
  {
   "cell_type": "markdown",
   "metadata": {},
   "source": [
    "See the gray region on the top left corner of the image, which has the same size as\n",
    "the filter? That’s the region the filter is being applied to and it is called the\n",
    "receptive field, drawing an analogy to the way human vision works.\n",
    "\n",
    "Moreover, look at the shapes underneath the images: the shapes follow the NCHW\n",
    "shape convention used by PyTorch. There is one image, one channel, six by six\n",
    "pixels in size. There is one filter, one channel, three by three pixels in size.\n",
    "\n",
    "Finally, the asterisk is representing the convolution operation between the two.\n",
    "\n",
    "\n",
    "Let’s create Numpy arrays to follow the operations, after all, everything gets easier\n",
    "to understand in code, right?"
   ]
  },
  {
   "cell_type": "code",
   "execution_count": 5,
   "metadata": {},
   "outputs": [
    {
     "data": {
      "text/plain": [
       "(1, 1, 6, 6)"
      ]
     },
     "execution_count": 5,
     "metadata": {},
     "output_type": "execute_result"
    }
   ],
   "source": [
    "single = np.array(\n",
    "    [[[[5, 0, 8, 7, 8, 1],\n",
    "       [1, 9, 5, 0, 7, 7],\n",
    "       [6, 0, 2, 4, 6, 6],\n",
    "       [9, 7, 6, 6, 8, 4],\n",
    "       [8, 3, 8, 5, 1, 3],\n",
    "       [7, 2, 7, 0, 1, 0]]]]\n",
    ")\n",
    "single.shape"
   ]
  },
  {
   "cell_type": "code",
   "execution_count": 6,
   "metadata": {},
   "outputs": [
    {
     "data": {
      "text/plain": [
       "(1, 1, 3, 3)"
      ]
     },
     "execution_count": 6,
     "metadata": {},
     "output_type": "execute_result"
    }
   ],
   "source": [
    "identity = np.array(\n",
    "    [[[[0, 0, 0],\n",
    "       [0, 1, 0],\n",
    "       [0, 0, 0]]]]\n",
    ")\n",
    "identity.shape"
   ]
  },
  {
   "cell_type": "markdown",
   "metadata": {},
   "source": [
    "## Convolving\n",
    "\n",
    "> \"How does the filter modify the selected region/receptive field?\"\n",
    "\n",
    "It is actually quite simple: it performs an element-wise multiplication between the\n",
    "two, region and filter, and adds everything up. That’s it! Let’s check it out, zooming\n",
    "in on the selected region:"
   ]
  },
  {
   "cell_type": "markdown",
   "metadata": {},
   "source": [
    "![](./images/conv2.png)"
   ]
  },
  {
   "cell_type": "markdown",
   "metadata": {},
   "source": [
    "In code, we have to slice the corresponding region (remember the NCHW shape, so we’re operating on the last two dimensions):"
   ]
  },
  {
   "cell_type": "code",
   "execution_count": 7,
   "metadata": {},
   "outputs": [
    {
     "data": {
      "text/plain": [
       "9"
      ]
     },
     "execution_count": 7,
     "metadata": {},
     "output_type": "execute_result"
    }
   ],
   "source": [
    "region = single[:, :, 0:3, 0:3]\n",
    "filtered_region = region * identity\n",
    "total = filtered_region.sum()\n",
    "total"
   ]
  },
  {
   "cell_type": "markdown",
   "metadata": {},
   "source": [
    "And we’re done for the first region of the image!\n",
    "\n",
    "> \"Wait, there are nine pixel values coming in, but only ONE value\n",
    "coming out!\"\n",
    "\n",
    "Good point, you’re absolutely right! Doing a convolution produces an image with a\n",
    "reduced size. It is easy to see why, if we zoom out back to the full image"
   ]
  },
  {
   "cell_type": "markdown",
   "metadata": {},
   "source": [
    "![](./images/conv3.png)"
   ]
  },
  {
   "cell_type": "markdown",
   "metadata": {},
   "source": [
    "Since the filter gets applied to the gray region, and we’re using an identity filter, it\n",
    "is fairly straightforward to see it is simply copying the value in the center of the\n",
    "region. The remaining values are simply multiplied by zero and do not make to the\n",
    "sum. But even if they did, it wouldn’t change the fact that the result of one\n",
    "operation is a single value."
   ]
  },
  {
   "cell_type": "markdown",
   "metadata": {},
   "source": [
    "## Moving Around"
   ]
  },
  {
   "cell_type": "markdown",
   "metadata": {},
   "source": [
    "Next, we move the region one step to the right, that is, we change the receptive\n",
    "field, and apply the filter again:"
   ]
  },
  {
   "cell_type": "markdown",
   "metadata": {},
   "source": [
    "![](./images/stride1.png)"
   ]
  },
  {
   "cell_type": "markdown",
   "metadata": {},
   "source": [
    "> The size of the movement, in pixels, is called a stride. In our\n",
    "example, the stride is one.\n",
    "\n",
    "In code, it means we’re changing the slice of the input image:"
   ]
  },
  {
   "cell_type": "code",
   "execution_count": 8,
   "metadata": {},
   "outputs": [],
   "source": [
    "new_region = single[:, :, 0:3, (0+1):(3+1)]"
   ]
  },
  {
   "cell_type": "markdown",
   "metadata": {},
   "source": [
    "But the operation remains the same: first, an element-wise multiplication, and then\n",
    "adding up the elements of the resulting matrix:"
   ]
  },
  {
   "cell_type": "markdown",
   "metadata": {},
   "source": [
    "![](./images/conv5.png)"
   ]
  },
  {
   "cell_type": "code",
   "execution_count": 9,
   "metadata": {},
   "outputs": [
    {
     "data": {
      "text/plain": [
       "5"
      ]
     },
     "execution_count": 9,
     "metadata": {},
     "output_type": "execute_result"
    }
   ],
   "source": [
    "new_filtered_region = new_region * identity\n",
    "new_total = new_filtered_region.sum()\n",
    "new_total"
   ]
  },
  {
   "cell_type": "markdown",
   "metadata": {},
   "source": [
    "![](./images/conv6.png)"
   ]
  },
  {
   "cell_type": "markdown",
   "metadata": {},
   "source": [
    "We can keep moving the gray region to the right until we can’t move it anymore:"
   ]
  },
  {
   "cell_type": "markdown",
   "metadata": {},
   "source": [
    "![](./images/conv7.png)"
   ]
  },
  {
   "cell_type": "markdown",
   "metadata": {},
   "source": [
    "The fourth step to the right will actually place the region partially outside the\n",
    "input image. That’s a big no-no!"
   ]
  },
  {
   "cell_type": "code",
   "execution_count": 10,
   "metadata": {},
   "outputs": [],
   "source": [
    "last_horizontal_region = single[:, :, 0:3, (0+4):(3+4)]"
   ]
  },
  {
   "cell_type": "markdown",
   "metadata": {},
   "source": [
    "The selected region does not match the shape of the filter anymore. So, if we try to\n",
    "perform the element-wise multiplication, it fails:"
   ]
  },
  {
   "cell_type": "code",
   "execution_count": 11,
   "metadata": {},
   "outputs": [
    {
     "ename": "ValueError",
     "evalue": "operands could not be broadcast together with shapes (1,1,3,2) (1,1,3,3) ",
     "output_type": "error",
     "traceback": [
      "\u001b[1;31m---------------------------------------------------------------------------\u001b[0m",
      "\u001b[1;31mValueError\u001b[0m                                Traceback (most recent call last)",
      "\u001b[1;32m~\\AppData\\Local\\Temp/ipykernel_16996/2080732797.py\u001b[0m in \u001b[0;36m<module>\u001b[1;34m\u001b[0m\n\u001b[1;32m----> 1\u001b[1;33m \u001b[0mlast_horizontal_region\u001b[0m \u001b[1;33m*\u001b[0m \u001b[0midentity\u001b[0m\u001b[1;33m\u001b[0m\u001b[1;33m\u001b[0m\u001b[0m\n\u001b[0m",
      "\u001b[1;31mValueError\u001b[0m: operands could not be broadcast together with shapes (1,1,3,2) (1,1,3,3) "
     ]
    }
   ],
   "source": [
    "last_horizontal_region * identity"
   ]
  },
  {
   "cell_type": "markdown",
   "metadata": {},
   "source": [
    "## Shape"
   ]
  },
  {
   "cell_type": "markdown",
   "metadata": {},
   "source": [
    "Next, we go back to the left side and move down one step. If we repeat the\n",
    "operation, covering all valid regions, we’ll end up with a resulting image that is\n",
    "smaller (on the right):"
   ]
  },
  {
   "cell_type": "markdown",
   "metadata": {},
   "source": [
    "![](./images/conv8.png)"
   ]
  },
  {
   "cell_type": "markdown",
   "metadata": {},
   "source": [
    "It depends on the size of the filter.\n",
    "\n",
    "> The bigger the filter, the smaller the resulting image.\n",
    "\n",
    "Since applying a filter always produces a single value, the reduction is equal to the\n",
    "filter size minus one. If the input image has (hi, wi) shape (we’re disregarding the channel dimension for now), and the filter has (hf, wf) shape, the shape of the\n",
    "resulting image is given by:"
   ]
  },
  {
   "cell_type": "markdown",
   "metadata": {},
   "source": [
    "$$\n",
    "\\Large\n",
    "(h_i, w_i) * (h_f, w_f) = (h_i - (h_f - 1), w_i - (w_f - 1))\n",
    "$$"
   ]
  },
  {
   "cell_type": "markdown",
   "metadata": {},
   "source": [
    "If we assume the filter is a square matrix of size f, we can simplify the expression\n",
    "above to:"
   ]
  },
  {
   "cell_type": "markdown",
   "metadata": {},
   "source": [
    "$$\n",
    "\\Large\n",
    "(h_i, w_i) * f = (h_i - f + 1, w_i - f + 1)\n",
    "$$"
   ]
  },
  {
   "cell_type": "markdown",
   "metadata": {},
   "source": [
    "Makes sense, right? The filter has its dimensions reduced from (f, f) to (1, 1), so the\n",
    "operation reduces the original size by (f - 1).\n",
    "\n",
    "> \"But I’d like to keep the image size, is it possible?\"\n",
    "\n",
    "Sure it is! Padding comes to our rescue in this case. We’ll get to that in a couple of\n",
    "sections."
   ]
  },
  {
   "cell_type": "markdown",
   "metadata": {},
   "source": [
    "## Convolving in PyTorch"
   ]
  },
  {
   "cell_type": "markdown",
   "metadata": {},
   "source": [
    "Now that we know how a convolution works, let’s try it out using PyTorch. First, we\n",
    "need to convert our image and filter to tensors:"
   ]
  },
  {
   "cell_type": "code",
   "execution_count": 12,
   "metadata": {},
   "outputs": [],
   "source": [
    "image = torch.as_tensor(single).float()\n",
    "kernel_identity = torch.as_tensor(identity).float()"
   ]
  },
  {
   "cell_type": "markdown",
   "metadata": {},
   "source": [
    "Since kernel and filter are used interchangeably, especially when it comes to\n",
    "arguments of different methods, I am calling the variable kernel_identity, even\n",
    "though it is exactly the same identity filter we have used so far.\n",
    "\n",
    "\n",
    "Just like the activation functions we’ve seen in Chapter 4, convolutions also come\n",
    "in two flavors: **functional and module**. \n",
    "\n",
    "There is a fundamental difference between the two, though: the **functional** convolution takes the **kernel/filter as an argument** while **the module has weights** to represent the kernel/filter.\n",
    "\n",
    "Let’s use the functional convolution, `F.conv2d`, to apply the identity filter to our input image (notice we’re using `stride=1` since we moved the region around one\n",
    "pixel at a time):"
   ]
  },
  {
   "cell_type": "code",
   "execution_count": 13,
   "metadata": {},
   "outputs": [
    {
     "data": {
      "text/plain": [
       "tensor([[[[9., 5., 0., 7.],\n",
       "          [0., 2., 4., 6.],\n",
       "          [7., 6., 6., 8.],\n",
       "          [3., 8., 5., 1.]]]])"
      ]
     },
     "execution_count": 13,
     "metadata": {},
     "output_type": "execute_result"
    }
   ],
   "source": [
    "convolved = F.conv2d(image, kernel_identity, stride=1)\n",
    "convolved"
   ]
  },
  {
   "cell_type": "markdown",
   "metadata": {},
   "source": [
    "As expected, we got the same result shown in the previous section. No surprises\n",
    "here.\n",
    "\n",
    "Now, let’s turn our attention to PyTorch’s convolution module, `nn.Conv2d`. It has\n",
    "many arguments, let’s focus on the first four of them:\n",
    "\n",
    "- `in_channels`: number of channels of the input image\n",
    "- `out_channels`: number of channels produced by the convolution\n",
    "- `kernel_size`: size of the (square) convolution filter/kernel\n",
    "- `stride`: the size of the movement of the selected region\n",
    "\n",
    "There is a couple of things to notice here. First, there is **no argument for the\n",
    "kernel/filter itself**, there is only a `kernel_size` argument."
   ]
  },
  {
   "cell_type": "markdown",
   "metadata": {},
   "source": [
    "> The **actual filter**, that is, the **square matrix** used to perform\n",
    "element-wise multiplication is **learned** by the module.\n",
    "\n",
    "Second, it is possible to produce **multiple channels** as output. It simply means the\n",
    "module is going to **learn multiple filters**. Each filter is going to produce a different\n",
    "result, which is being called a channel here.\n",
    "\n",
    "So far, we’ve been using a single channel image as input, and applying one filter\n",
    "(size three by three) to it, moving one pixel at a time, resulting in one\n",
    "output/channel. Let’s do it in code:"
   ]
  },
  {
   "cell_type": "code",
   "execution_count": 14,
   "metadata": {},
   "outputs": [
    {
     "data": {
      "text/plain": [
       "tensor([[[[ 0.2978, -0.5510,  1.3414,  2.1362],\n",
       "          [-0.4903,  2.7307,  0.1110, -1.9342],\n",
       "          [-1.4885, -3.5565, -3.3426, -0.0736],\n",
       "          [ 0.7363,  0.1441,  0.3814,  0.9591]]]],\n",
       "       grad_fn=<SlowConv2DBackward0>)"
      ]
     },
     "execution_count": 14,
     "metadata": {},
     "output_type": "execute_result"
    }
   ],
   "source": [
    "conv = nn.Conv2d(in_channels=1, out_channels=1, kernel_size=3, stride=1)\n",
    "\n",
    "conv(image)"
   ]
  },
  {
   "cell_type": "markdown",
   "metadata": {},
   "source": [
    "These results are gibberish now (and yours are going to be different than mine)\n",
    "because the convolutional module randomly initializes the weights representing\n",
    "the kernel/filter."
   ]
  },
  {
   "cell_type": "markdown",
   "metadata": {},
   "source": [
    "> That’s the whole point of the convolutional module: it will learn\n",
    "the kernel/filter on its own.\n",
    "\n",
    "> In traditional computer vision, people would develop different\n",
    "filters for different purposes: blurring, sharpening, edge\n",
    "detection, and so on.\n",
    "\n",
    "> But, instead of being clever and trying to manually devise a filter\n",
    "that does the trick for a given problem, why not outsource the\n",
    "filter definition to the neural network as well? This way. the\n",
    "network will come up with filters that highlight features that are\n",
    "relevant to the task at hand.\n",
    "\n",
    "It’s no surprise that the resulting image shows a `grad_fn` attribute\n",
    "now: it will be used to compute gradients so the network can\n",
    "actually learn how to change the weights representing the filter.\n",
    "\n",
    "\n",
    "> \"Can we tell it to learn multiple filters at once?\"\n",
    "\n",
    "Sure we can, that’s the role of the `out_channels` argument. If we set it to two, it will\n",
    "generate two (randomly initialized) filters:"
   ]
  },
  {
   "cell_type": "code",
   "execution_count": 15,
   "metadata": {},
   "outputs": [
    {
     "data": {
      "text/plain": [
       "Parameter containing:\n",
       "tensor([[[[ 0.2434, -0.0609,  0.2222],\n",
       "          [-0.0692, -0.2228, -0.0611],\n",
       "          [ 0.3178, -0.2362, -0.0389]]],\n",
       "\n",
       "\n",
       "        [[[-0.0895, -0.3298,  0.2559],\n",
       "          [ 0.0721, -0.1748, -0.0858],\n",
       "          [ 0.2196,  0.0036,  0.2431]]]], requires_grad=True)"
      ]
     },
     "execution_count": 15,
     "metadata": {},
     "output_type": "execute_result"
    }
   ],
   "source": [
    "conv_multiple = nn.Conv2d(in_channels=1, out_channels=2, kernel_size=3, stride=1)\n",
    "conv_multiple.weight"
   ]
  },
  {
   "cell_type": "markdown",
   "metadata": {},
   "source": [
    "See? There are **two** filters represented by **three-by-three** matrices of weights\n",
    "(your values are going to be different than mine).\n",
    "\n",
    "> Even if you have only one channel as input, you can have many\n",
    "channels as output.\n",
    "\n",
    "> **Spoiler alert**: the filters learned by the network are going to show\n",
    "edges, patterns, and even more complex shapes (sometimes\n",
    "resembling faces, for instance). We’ll get back to visualizing\n",
    "those filters later in this chapter.\n",
    "\n",
    "We can also **force** a convolutional module to use a particular filter by setting its\n",
    "weights:"
   ]
  },
  {
   "cell_type": "code",
   "execution_count": 16,
   "metadata": {},
   "outputs": [],
   "source": [
    "with torch.no_grad():\n",
    "    conv.weight[0] = kernel_identity\n",
    "    conv.bias[0] = 0"
   ]
  },
  {
   "cell_type": "markdown",
   "metadata": {},
   "source": [
    "`weight[0]` and `bias[0]` are indexing the first (and only) output channel in this convolutional layer."
   ]
  },
  {
   "cell_type": "markdown",
   "metadata": {},
   "source": [
    "> **IMPORTANT: setting the weights is a strictly no-gradient\n",
    "operation, so you should always use the no_grad context\n",
    "manager.**\n",
    "\n",
    "In the code snippet above, we are forcing the module to use the (boring) identity\n",
    "kernel we have used so far. As expected, if we convolve our input image we’ll get\n",
    "the familiar result:"
   ]
  },
  {
   "cell_type": "code",
   "execution_count": 17,
   "metadata": {},
   "outputs": [
    {
     "data": {
      "text/plain": [
       "tensor([[[[9., 5., 0., 7.],\n",
       "          [0., 2., 4., 6.],\n",
       "          [7., 6., 6., 8.],\n",
       "          [3., 8., 5., 1.]]]], grad_fn=<SlowConv2DBackward0>)"
      ]
     },
     "execution_count": 17,
     "metadata": {},
     "output_type": "execute_result"
    }
   ],
   "source": [
    "conv(image)"
   ]
  },
  {
   "cell_type": "markdown",
   "metadata": {},
   "source": [
    "> Setting the weights to get specific filters is at the heart of\n",
    "transfer learning. Someone else trained a model and that model\n",
    "learned lots of useful filters, so we don’t have to learn them\n",
    "again. We can set the corresponding weights and go from there.\n",
    "We’ll see this in practice in Chapter 7."
   ]
  },
  {
   "cell_type": "markdown",
   "metadata": {},
   "source": [
    "## Striding"
   ]
  },
  {
   "cell_type": "markdown",
   "metadata": {},
   "source": [
    "So far, we’ve been moving the region of interest one pixel at a time: a stride of one.\n",
    "Let’s try a **stride of two** for a change and see what happens to the resulting image. I\n",
    "am not reproducing the first step here because it is always the same: the gray\n",
    "region centered at the number nine."
   ]
  },
  {
   "cell_type": "markdown",
   "metadata": {},
   "source": [
    "![](./images/strider2.png)"
   ]
  },
  {
   "cell_type": "markdown",
   "metadata": {},
   "source": [
    "The **second step**, depicted above, shows the **gray region** moved two pixels to the\n",
    "right: that’s a stride of two.\n",
    "\n",
    "Moreover, notice that, if we take another step of two pixels, the gray region would be\n",
    "placed partially outside the underlying image. It was and still is a big no-no, so\n",
    "there are **only two valid operations** while moving horizontally. The same will\n",
    "eventually happen when we move vertically. The first stride of two pixels down is\n",
    "fine, but the second will be, once again, a failed operation.\n",
    "\n",
    "The resulting image, after the only four valid operations, looks like this:"
   ]
  },
  {
   "cell_type": "markdown",
   "metadata": {},
   "source": [
    "![](./images/strider3.png)"
   ]
  },
  {
   "cell_type": "markdown",
   "metadata": {},
   "source": [
    "The identity kernel may be boring, but it is definitely **useful** to highlight the inner\n",
    "workings of the convolutions. It is crystal clear in the figure above where the pixel\n",
    "values in the resulting image come from.\n",
    "\n",
    "Also, notice that using a **bigger stride** made the shape of the resulting image even\n",
    "smaller.\n",
    "\n",
    "> The **bigger the stride**, the **smaller the resulting image**.\n",
    "\n",
    "Once again, it makes sense: if we are **skipping pixels** in the input image, there are\n",
    "fewer regions of interest to apply the filter to. We can extend our previous formula\n",
    "to include the stride size (s):"
   ]
  },
  {
   "cell_type": "markdown",
   "metadata": {},
   "source": [
    "$$\n",
    "\\Large\n",
    "(h_i, w_i) * f = \\left(\\frac{h_i - f + 1}{s}, \\frac{w_i - f + 1}{s}\\right)\n",
    "$$"
   ]
  },
  {
   "cell_type": "markdown",
   "metadata": {},
   "source": [
    "As we’ve seen before, the stride is only an argument of the convolution, so let’s use\n",
    "PyTorch’s functional convolution to double-check the results:"
   ]
  },
  {
   "cell_type": "code",
   "execution_count": 18,
   "metadata": {},
   "outputs": [
    {
     "data": {
      "text/plain": [
       "tensor([[[[9., 0.],\n",
       "          [7., 6.]]]])"
      ]
     },
     "execution_count": 18,
     "metadata": {},
     "output_type": "execute_result"
    }
   ],
   "source": [
    "convolved_stride2 = F.conv2d(image, kernel_identity, stride=2)\n",
    "convolved_stride2"
   ]
  },
  {
   "cell_type": "markdown",
   "metadata": {},
   "source": [
    "So far, the operations we performed have been shrinking the images. What about\n",
    "restoring them to their original glory, I mean, size?"
   ]
  },
  {
   "cell_type": "markdown",
   "metadata": {},
   "source": [
    "## Padding"
   ]
  },
  {
   "cell_type": "markdown",
   "metadata": {},
   "source": [
    "Padding means stuffing. We need to stuff the original image so it can sustain the\n",
    "\"attack\" on its size.\n",
    "\n",
    "> \"How do I stuff an image?\"\n",
    "\n",
    "Glad you asked! We may simply **add zeros around it**. An image is worth a thousand words in this case:"
   ]
  },
  {
   "cell_type": "markdown",
   "metadata": {},
   "source": [
    "![](./images/padding1.png)"
   ]
  },
  {
   "cell_type": "markdown",
   "metadata": {},
   "source": [
    "See what I mean? By adding columns and rows of zeros around it, **we expand the\n",
    "input image** such that the gray region starts centered in the actual top left corner\n",
    "of the input image. This simple trick can be used to **preserve the original size** of the\n",
    "image.\n",
    "\n",
    "In code, as usual, PyTorch gives us two options: functional (`F.pad`) and module\n",
    "(`nn.ConstantPad2d`). Let’s start with the module version this time:"
   ]
  },
  {
   "cell_type": "code",
   "execution_count": 19,
   "metadata": {},
   "outputs": [
    {
     "data": {
      "text/plain": [
       "tensor([[[[0., 0., 0., 0., 0., 0., 0., 0.],\n",
       "          [0., 5., 0., 8., 7., 8., 1., 0.],\n",
       "          [0., 1., 9., 5., 0., 7., 7., 0.],\n",
       "          [0., 6., 0., 2., 4., 6., 6., 0.],\n",
       "          [0., 9., 7., 6., 6., 8., 4., 0.],\n",
       "          [0., 8., 3., 8., 5., 1., 3., 0.],\n",
       "          [0., 7., 2., 7., 0., 1., 0., 0.],\n",
       "          [0., 0., 0., 0., 0., 0., 0., 0.]]]])"
      ]
     },
     "execution_count": 19,
     "metadata": {},
     "output_type": "execute_result"
    }
   ],
   "source": [
    "constant_padder = nn.ConstantPad2d(padding=1, value=0)\n",
    "constant_padder(image)"
   ]
  },
  {
   "cell_type": "markdown",
   "metadata": {},
   "source": [
    "There are two arguments: `padding`, for the number of columns and rows to be\n",
    "stuffed in the image; and value, for the value that is filling these new columns and\n",
    "rows. One can also do **asymmetric padding**, by specifying a tuple in the padding\n",
    "argument representing (left, right, top, bottom). So, if we were to stuff our\n",
    "image on left and right sides only, the argument would go like this: (1, 1, 0, 0).\n",
    "\n",
    "We can achieve the same result using the functional padding:"
   ]
  },
  {
   "cell_type": "code",
   "execution_count": 20,
   "metadata": {},
   "outputs": [
    {
     "data": {
      "text/plain": [
       "tensor([[[[0., 0., 0., 0., 0., 0., 0., 0.],\n",
       "          [0., 5., 0., 8., 7., 8., 1., 0.],\n",
       "          [0., 1., 9., 5., 0., 7., 7., 0.],\n",
       "          [0., 6., 0., 2., 4., 6., 6., 0.],\n",
       "          [0., 9., 7., 6., 6., 8., 4., 0.],\n",
       "          [0., 8., 3., 8., 5., 1., 3., 0.],\n",
       "          [0., 7., 2., 7., 0., 1., 0., 0.],\n",
       "          [0., 0., 0., 0., 0., 0., 0., 0.]]]])"
      ]
     },
     "execution_count": 20,
     "metadata": {},
     "output_type": "execute_result"
    }
   ],
   "source": [
    "padded = F.pad(image, pad=(1, 1, 1, 1), mode='constant', value=0)\n",
    "\n",
    "padded"
   ]
  },
  {
   "cell_type": "markdown",
   "metadata": {},
   "source": [
    "In the functional version, one must specify the **padding as a tuple**. The value\n",
    "argument is straightforward, and there is yet another argument: `mode`, which was\n",
    "set to **constant** to match the module version above."
   ]
  },
  {
   "cell_type": "markdown",
   "metadata": {},
   "source": [
    "> In PyTorch’s documentation there is a **note** warning about\n",
    "possible reproducibility issues while using padding:\n",
    "\n",
    "> *\"When using the CUDA backend, this operation may induce\n",
    "nondeterministic behaviour in its backward pass that is not easily\n",
    "switched off. Please see the notes on Reproducibility for background.\"*\n",
    "It strikes me a bit odd that such a straightforward operation, of all\n",
    "things, would jeopardize reproducibility. Go figure!"
   ]
  },
  {
   "cell_type": "markdown",
   "metadata": {},
   "source": [
    "> \"What are the other available modes?\"\n",
    "\n",
    "There are three other modes: replicate, reflect, and circular. Let’s take a look at\n",
    "them, starting with the visualization:"
   ]
  },
  {
   "cell_type": "markdown",
   "metadata": {},
   "source": [
    "![](images/paddings.png)"
   ]
  },
  {
   "cell_type": "markdown",
   "metadata": {},
   "source": [
    "In the replication padding, the padded pixels will have the same value as the\n",
    "closest real pixel. The padded corners will have the same value as the real corners.\n",
    "The other columns (left and right) and rows (top and bottom) will replicate the\n",
    "corresponding values of the original image. The values used in the replication are in\n",
    "a darker shade of orange.\n",
    "\n",
    "In PyTorch, one can use the functional form `F.pad` with `mode=\"replicate\"`, or use\n",
    "the module version `nn.ReplicationPad2d`:"
   ]
  },
  {
   "cell_type": "code",
   "execution_count": 21,
   "metadata": {},
   "outputs": [
    {
     "data": {
      "text/plain": [
       "tensor([[[[5., 5., 0., 8., 7., 8., 1., 1.],\n",
       "          [5., 5., 0., 8., 7., 8., 1., 1.],\n",
       "          [1., 1., 9., 5., 0., 7., 7., 7.],\n",
       "          [6., 6., 0., 2., 4., 6., 6., 6.],\n",
       "          [9., 9., 7., 6., 6., 8., 4., 4.],\n",
       "          [8., 8., 3., 8., 5., 1., 3., 3.],\n",
       "          [7., 7., 2., 7., 0., 1., 0., 0.],\n",
       "          [7., 7., 2., 7., 0., 1., 0., 0.]]]])"
      ]
     },
     "execution_count": 21,
     "metadata": {},
     "output_type": "execute_result"
    }
   ],
   "source": [
    "replication_padder = nn.ReplicationPad2d(padding=1)\n",
    "replication_padder(image)"
   ]
  },
  {
   "cell_type": "markdown",
   "metadata": {},
   "source": [
    "In the **reflection** padding, it gets a bit trickier. It is like **the outer columns and rows\n",
    "are used as axes for the reflection**. \n",
    "\n",
    "So, the left padded column (forget about the corners for now) will reflect the second column (since the first column is the axis of reflection). The same reasoning goes for the right padded column. Similarly, the top\n",
    "padded row will reflect the second row (since the first row is the axis of reflection),\n",
    "and the same reasoning goes for the bottom padded row. The values used in the\n",
    "reflection are in a darker shade of orange. The corners will have the same values as\n",
    "the intersection of the reflected rows and columns of the original image.\n",
    "\n",
    "Hopefully, the image can convey the idea better than my words.\n",
    "\n",
    "In PyTorch, you can use the functional form F.pad with mode=\"reflect\", or use the\n",
    "module version nn.ReflectionPad2d:"
   ]
  },
  {
   "cell_type": "code",
   "execution_count": 22,
   "metadata": {},
   "outputs": [
    {
     "data": {
      "text/plain": [
       "tensor([[[[9., 1., 9., 5., 0., 7., 7., 7.],\n",
       "          [0., 5., 0., 8., 7., 8., 1., 8.],\n",
       "          [9., 1., 9., 5., 0., 7., 7., 7.],\n",
       "          [0., 6., 0., 2., 4., 6., 6., 6.],\n",
       "          [7., 9., 7., 6., 6., 8., 4., 8.],\n",
       "          [3., 8., 3., 8., 5., 1., 3., 1.],\n",
       "          [2., 7., 2., 7., 0., 1., 0., 1.],\n",
       "          [3., 8., 3., 8., 5., 1., 3., 1.]]]])"
      ]
     },
     "execution_count": 22,
     "metadata": {},
     "output_type": "execute_result"
    }
   ],
   "source": [
    "reflection_padder = nn.ReflectionPad2d(padding=1)\n",
    "reflection_padder(image)"
   ]
  },
  {
   "cell_type": "markdown",
   "metadata": {},
   "source": [
    "In the circular padding, the left-most (right-most) column gets copied as the right\n",
    "(left) padded column (forget about the corners for now too). Similarly, the topmost\n",
    "(bottom-most) row gets copied as the bottom (top) padded row. The corners\n",
    "will receive the values of the diametrically opposed corner: the top-left padded\n",
    "pixel receives the value of the bottom-right corner of the original image. Once\n",
    "again, the values used in the padding are in a darker shade of orange.\n",
    "\n",
    "In PyTorch, you must use the functional form F.pad with mode=\"circular\" since\n",
    "there is no module version of the circular padding (at time of writing):"
   ]
  },
  {
   "cell_type": "code",
   "execution_count": 23,
   "metadata": {},
   "outputs": [
    {
     "data": {
      "text/plain": [
       "tensor([[[[0., 7., 2., 7., 0., 1., 0., 7.],\n",
       "          [1., 5., 0., 8., 7., 8., 1., 5.],\n",
       "          [7., 1., 9., 5., 0., 7., 7., 1.],\n",
       "          [6., 6., 0., 2., 4., 6., 6., 6.],\n",
       "          [4., 9., 7., 6., 6., 8., 4., 9.],\n",
       "          [3., 8., 3., 8., 5., 1., 3., 8.],\n",
       "          [0., 7., 2., 7., 0., 1., 0., 7.],\n",
       "          [1., 5., 0., 8., 7., 8., 1., 5.]]]])"
      ]
     },
     "execution_count": 23,
     "metadata": {},
     "output_type": "execute_result"
    }
   ],
   "source": [
    "F.pad(image, pad=(1, 1, 1, 1), mode='circular')"
   ]
  },
  {
   "cell_type": "markdown",
   "metadata": {},
   "source": [
    "By means of **padding** an image, it is possible to **get resulting images** with the same\n",
    "shape as input images, or even bigger, should you choose to stuff more and more\n",
    "rows and columns to the input image. Assuming we’re doing **symmetrical padding\n",
    "of size p**, the resulting shape is given by the formula below:"
   ]
  },
  {
   "cell_type": "markdown",
   "metadata": {},
   "source": [
    "$$\n",
    "\\Large\n",
    "(h_i, w_i) * f = \\left(\\frac{(h_i + 2p) - f + 1}{s}, \\frac{(w_i + 2p) - f + 1}{s}\\right)\n",
    "$$"
   ]
  },
  {
   "cell_type": "markdown",
   "metadata": {},
   "source": [
    "We’re basically extending the original dimensions by 2p pixels each."
   ]
  },
  {
   "cell_type": "markdown",
   "metadata": {},
   "source": [
    "## A REAL Filter\n",
    "\n",
    "Enough with the identity filter! Let’s try an **edge detector**[88] filter from traditional\n",
    "computer vision for a change:"
   ]
  },
  {
   "cell_type": "code",
   "execution_count": 24,
   "metadata": {},
   "outputs": [
    {
     "data": {
      "text/plain": [
       "torch.Size([1, 1, 3, 3])"
      ]
     },
     "execution_count": 24,
     "metadata": {},
     "output_type": "execute_result"
    }
   ],
   "source": [
    "edge = np.array(\n",
    "    [[[[0, 1, 0],\n",
    "       [1, -4, 1],\n",
    "       [0, 1, 0]]]]\n",
    ")\n",
    "kernel_edge = torch.as_tensor(edge).float()\n",
    "kernel_edge.shape"
   ]
  },
  {
   "cell_type": "markdown",
   "metadata": {},
   "source": [
    "And let’s apply it to a different region of our (padded) input image as well:"
   ]
  },
  {
   "cell_type": "markdown",
   "metadata": {},
   "source": [
    "![](./images/padding2.png)"
   ]
  },
  {
   "cell_type": "markdown",
   "metadata": {},
   "source": [
    "As you can see, filters, other than the identity one, will not simply copy the value at\n",
    "the center. The element-wise multiplication finally means something:"
   ]
  },
  {
   "cell_type": "markdown",
   "metadata": {},
   "source": [
    "![](./images/padding3.png)"
   ]
  },
  {
   "cell_type": "code",
   "execution_count": 25,
   "metadata": {},
   "outputs": [],
   "source": [
    "padded = F.pad(image, (1, 1, 1, 1), mode='constant', value=0)\n",
    "conv_padded = F.conv2d(padded, kernel_edge, stride=1)"
   ]
  },
  {
   "cell_type": "markdown",
   "metadata": {},
   "source": [
    "# Pooling\n",
    "\n",
    "Now we’re back in the business of **shrinking images**. Pooling is different than the\n",
    "former operations: it splits the image into tiny chunks, performs an operation on\n",
    "each chunk (that yields a single value), and puts the chunks together as the\n",
    "resulting image. Again, an image is worth a thousand words:"
   ]
  },
  {
   "cell_type": "markdown",
   "metadata": {},
   "source": [
    "![](./images/pooling1.png)"
   ]
  },
  {
   "cell_type": "markdown",
   "metadata": {},
   "source": [
    "In the image above, we’re performing a **max-pooling** with a kernel size of two.\n",
    "\n",
    "Even though these are not quite the same filters as the ones we’ve already seen, it\n",
    "is still called kernel.\n",
    "\n",
    "> In this example, the stride is assumed to be the same size as the\n",
    "kernel.\n",
    "\n",
    "Our input image is split into nine chunks, and we perform a simple max operation\n",
    "(hence, max-pooling) on each chunk (really, it is just taking the biggest value in each\n",
    "chunk). Then these values are put together, in order, to produce a smaller resulting\n",
    "image.\n",
    "\n",
    "> The bigger the pooling kernel, the smaller the resulting image.\n",
    "\n",
    "A pooling kernel of two-by-two results in an image whose dimensions are half of\n",
    "the original. A pooling kernel of three-by-three makes the resulting image one third the size of the original, and so on. Moreover, **only full chunks count**: if we try a\n",
    "kernel of four-by-four in our six-by-six image, only one chunk fits, and the resulting\n",
    "image would have a single pixel.\n",
    "\n",
    "In PyTorch, as usual, we have both forms: `F.max_pool2d` and `nn.MaxPool2d`. Let’s\n",
    "use functional form to replicate the max-pooling in the figure above:"
   ]
  },
  {
   "cell_type": "code",
   "execution_count": 26,
   "metadata": {},
   "outputs": [
    {
     "data": {
      "text/plain": [
       "tensor([[[[22., 23., 11.],\n",
       "          [24.,  7.,  1.],\n",
       "          [13., 13., 13.]]]])"
      ]
     },
     "execution_count": 26,
     "metadata": {},
     "output_type": "execute_result"
    }
   ],
   "source": [
    "pooled = F.max_pool2d(conv_padded, kernel_size=2)\n",
    "pooled"
   ]
  },
  {
   "cell_type": "markdown",
   "metadata": {},
   "source": [
    "And then let’s use the module version to illustrate the big four-by-four pooling:"
   ]
  },
  {
   "cell_type": "code",
   "execution_count": 27,
   "metadata": {},
   "outputs": [
    {
     "data": {
      "text/plain": [
       "tensor([[[[24.]]]])"
      ]
     },
     "execution_count": 27,
     "metadata": {},
     "output_type": "execute_result"
    }
   ],
   "source": [
    "maxpool4 = nn.MaxPool2d(kernel_size=4)\n",
    "pooled4 = maxpool4(conv_padded)\n",
    "pooled4"
   ]
  },
  {
   "cell_type": "markdown",
   "metadata": {},
   "source": [
    "A single pixel as promised!\n",
    "\n",
    "> \"Can I perform some other operation?\"\n",
    "\n",
    "Sure, besides **max-pooling**, **average pooling** is also fairly common. As the name\n",
    "suggests, it will output the average pixel value for each chunk. In PyTorch, we have\n",
    "`F.avg_pool2d` and `nn.AvgPool2d`.\n",
    "\n",
    "> \"Can I use a stride of a different size?\"\n",
    "\n",
    "Of course, you can! In this case, there will be an **overlap** between regions instead of\n",
    "a clean split into chunks. So, it looks like a regular kernel of a convolution, but the\n",
    "operation is already defined (max or average, for instance). Let’s go through a\n",
    "quick example:"
   ]
  },
  {
   "cell_type": "code",
   "execution_count": 28,
   "metadata": {},
   "outputs": [
    {
     "data": {
      "text/plain": [
       "tensor([[[[24., 24., 23., 23.],\n",
       "          [24., 24., 23., 23.],\n",
       "          [24., 24., 13., 13.],\n",
       "          [13., 13., 13., 13.]]]])"
      ]
     },
     "execution_count": 28,
     "metadata": {},
     "output_type": "execute_result"
    }
   ],
   "source": [
    "F.max_pool2d(conv_padded, kernel_size=3, stride=1)"
   ]
  },
  {
   "cell_type": "markdown",
   "metadata": {},
   "source": [
    "The max-pooling kernel, sized three-by-three, will move over the image (just like\n",
    "the convolutional kernel) and compute the maximum value of each region it goes\n",
    "over. The resulting shape follows the formula on Equation 5.4."
   ]
  },
  {
   "cell_type": "markdown",
   "metadata": {},
   "source": [
    "# Flattening"
   ]
  },
  {
   "cell_type": "markdown",
   "metadata": {},
   "source": [
    "We’ve already seen this one! It simply flattens a tensor, preserving the first\n",
    "dimension such that we keep the number of data points while collapsing all other\n",
    "dimensions. It has a module version nn.Flatten:"
   ]
  },
  {
   "cell_type": "code",
   "execution_count": 29,
   "metadata": {},
   "outputs": [
    {
     "data": {
      "text/plain": [
       "tensor([[22., 23., 11., 24.,  7.,  1., 13., 13., 13.]])"
      ]
     },
     "execution_count": 29,
     "metadata": {},
     "output_type": "execute_result"
    }
   ],
   "source": [
    "flattened = nn.Flatten()(pooled)\n",
    "flattened"
   ]
  },
  {
   "cell_type": "markdown",
   "metadata": {},
   "source": [
    "It has no functional version, but there is no need for one since we can accomplish\n",
    "the same thing using view:"
   ]
  },
  {
   "cell_type": "code",
   "execution_count": 30,
   "metadata": {},
   "outputs": [
    {
     "data": {
      "text/plain": [
       "tensor([[22., 23., 11., 24.,  7.,  1., 13., 13., 13.]])"
      ]
     },
     "execution_count": 30,
     "metadata": {},
     "output_type": "execute_result"
    }
   ],
   "source": [
    "pooled.view(1, -1)"
   ]
  },
  {
   "cell_type": "markdown",
   "metadata": {},
   "source": [
    "### Dimensions\n",
    "\n",
    "We’ve performed convolutions, padding, and pooling in **two dimensions** because\n",
    "we’re handling images. But there are one and three-dimensional versions of some\n",
    "of them as well:\n",
    "\n",
    "- `nn.Conv1d` and `F.conv1d`; `nn.Conv3d` and `F.conv3d`\n",
    "- `nn.ConstandPad1d` and `nn.ConstandPad3d`\n",
    "- `nn.ReplicationPad1d` and `nn.ReplicationPad3d`\n",
    "- `nn.ReflectionPad1d`\n",
    "- `nn.MaxPool1d` and `F.max_pool1d`; `nn.MaxPool3d` and `F.max_pool3d`\n",
    "- `nn.AvgPool1d` and `F.avg_pool1d`; `nn.AvgPool3d` and `F.avg_pool3d`\n",
    "\n",
    "We will not venture into the third dimension in this book, but we’ll get back to one-dimension\n",
    "operations later.\n",
    "\n",
    "- \"Aren’t color images three-dimensional since they have three channels?\"\n",
    "\n",
    "Well, yes, but we will still be applying two-dimensional convolutions to them. We’ll\n",
    "go through a detailed example using a three-channel image in the next chapter."
   ]
  },
  {
   "cell_type": "markdown",
   "metadata": {},
   "source": [
    "# Typical Architecture"
   ]
  },
  {
   "cell_type": "markdown",
   "metadata": {},
   "source": [
    "The typical architecture uses a sequence of one or more typical convolutional\n",
    "blocks, each block consisting of three operations:\n",
    "\n",
    "1. Convolution\n",
    "2. Activation function\n",
    "3. Pooling\n",
    "\n",
    "As images go through these operations, they will shrink in size. After three of these\n",
    "blocks (assuming kernel size of two for pooling), for instance, an image will be\n",
    "reduced to 1/8 or less of its original dimensions (and thus 1/64 of its total number\n",
    "of pixels). The number of channels/filters produced by each block, though, is\n",
    "usually increased as more blocks are added.\n",
    "\n",
    "After the sequence of blocks, the image gets flattened: hopefully, at this stage,\n",
    "there is no loss of information by considering each value in the flattened tensor a\n",
    "feature on its own.\n",
    "\n",
    "Once the features are dissociated from pixels, it becomes a fairly standard\n",
    "problem, like the ones we’ve been handling in this book: the features feed one or\n",
    "more hidden layers, and an output layer produces the logits for classification.\n",
    "\n",
    "\n",
    "> If you think of it, what those typical convolutional blocks do is\n",
    "akin to pre-processing images and converting them into\n",
    "features. Let’s call this part of the network **a featurizer** (the one\n",
    "that generates features).\n",
    "\n",
    "> The classification itself is handled by the familiar and well-known\n",
    "hidden and output layers.\n",
    "\n",
    "> In transfer learning, which we’ll see in Chapter 7, this will\n",
    "become even more clear."
   ]
  },
  {
   "cell_type": "markdown",
   "metadata": {},
   "source": [
    "## LeNet5"
   ]
  },
  {
   "cell_type": "markdown",
   "metadata": {},
   "source": [
    "LeNet-5 is a 7-level convolutional neural network developed by Yann LeCun in\n",
    "1998 to recognize hand-written digits in 28x28 pixel images - the famous **MNIST**\n",
    "dataset! That’s when it all started (kinda). \n",
    "\n",
    "In 1989, LeCun himself used backpropagation (chained gradient descent, remember?) to learn the convolution\n",
    "filters, as we discussed above, instead of painstakingly developing them manually.\n",
    "\n",
    "His network had this architecture:"
   ]
  },
  {
   "cell_type": "markdown",
   "metadata": {},
   "source": [
    "![](images/architecture_lenet.png)\n",
    "\n",
    "*Source: Generated using Alexander Lenail's [NN-SVG](http://alexlenail.me/NN-SVG/) and adapted by the author. For more details, see LeCun, Y., et al (1998).  [Gradient-based learning applied to document recognition](http://yann.lecun.com/exdb/publis/pdf/lecun-01a.pdf). Proceedings of the IEEE,86(11), 2278–2324*"
   ]
  },
  {
   "cell_type": "markdown",
   "metadata": {},
   "source": [
    "Do you see anything familiar? The typical convolutional blocks are already there\n",
    "(to some extent): convolutions (C layers), activation functions (not shown), and\n",
    "subsampling (S layers). There are some differences, though:\n",
    "\n",
    "- back then, the subsampling was more complex than today’s max-pooling, but the general idea still holds\n",
    "\n",
    "- the activation function, a sigmoid at the time, was applied after the subsampling instead of before, as it is typical today\n",
    "\n",
    "- the F6 and OUTPUT layers were connected by something called \"Gaussian connections\", which is also more complex than the typical activation function one would use today"
   ]
  },
  {
   "cell_type": "markdown",
   "metadata": {},
   "source": [
    "Adapting LeNet-5 to today’s standards, it could be implemented like this:"
   ]
  },
  {
   "cell_type": "code",
   "execution_count": 31,
   "metadata": {},
   "outputs": [],
   "source": [
    "lenet = nn.Sequential()\n",
    "\n",
    "# Featurizer\n",
    "# Block 1: 1@28x28 -> 6@28x28 -> 6@14x14\n",
    "lenet.add_module('C1', nn.Conv2d(in_channels=1, out_channels=6, kernel_size=5, padding=2))\n",
    "lenet.add_module('func1', nn.ReLU())\n",
    "lenet.add_module('S2', nn.MaxPool2d(kernel_size=2))\n",
    "\n",
    "# Block 2: 6@14x14 -> 16@10x10 -> 16@5x5\n",
    "lenet.add_module('C3', nn.Conv2d(in_channels=6, out_channels=16, kernel_size=5))\n",
    "lenet.add_module('func2', nn.ReLU())\n",
    "lenet.add_module('S4', nn.MaxPool2d(kernel_size=2))\n",
    "\n",
    "# Block 3: 16@5x5 -> 120@1x1\n",
    "lenet.add_module('C5', nn.Conv2d(in_channels=16, out_channels=120, kernel_size=5))\n",
    "lenet.add_module('func2', nn.ReLU())\n",
    "\n",
    "# Flattening\n",
    "lenet.add_module('flatten', nn.Flatten())\n",
    "\n",
    "# Classification\n",
    "# Hidden Layer\n",
    "lenet.add_module('F6', nn.Linear(in_features=120, out_features=84))\n",
    "lenet.add_module('func3', nn.ReLU())\n",
    "# Output Layer\n",
    "lenet.add_module('OUTPUT', nn.Linear(in_features=84, out_features=10))"
   ]
  },
  {
   "cell_type": "markdown",
   "metadata": {},
   "source": [
    "LeNet-5 used three convolutional blocks, although the last one does not have a max-pooling because the convolution already produces a single pixel. Regarding the number of channels, they increase as the image size decreases:\n",
    "\n",
    "- input image: single-channel 28x28 pixels\n",
    "- first block: produces 6-channel 14x14 pixels\n",
    "- second block: produces 16-channel 5x5 pixels\n",
    "- third block: produces 120-channel single-pixel (1x1)\n",
    "\n",
    "Then, these 120 values (or features) are flattened and fed to a typical hidden layer\n",
    "with 84 units. The last step is, obviously, the output layer, which produces 10 logits\n",
    "to be used for digit classification (from 0 to 9, there are 10 classes).\n",
    "\n",
    "> \"Wait, we haven’t seen any of those multiclass classification problems yet!\"\n",
    "\n",
    "You’re right, it is about time. But we’re still not using MNIST for this."
   ]
  },
  {
   "cell_type": "markdown",
   "metadata": {},
   "source": [
    "# A Multiclass Classification Problem"
   ]
  },
  {
   "cell_type": "markdown",
   "metadata": {},
   "source": [
    "A problem is considered a multiclass classification problem if there are more than\n",
    "two classes. So, let’s keep it as simple as possible and build a model to classify\n",
    "images into three classes."
   ]
  },
  {
   "attachments": {
    "image.png": {
     "image/png": "[encoded data removed]"
    }
   },
   "cell_type": "markdown",
   "metadata": {},
   "source": [
    "## Data Generation\n",
    "\n",
    "Our images are going to have either a diagonal or a parallel line, BUT this time we\n",
    "will make a distinction between a diagonal line tilted to the right, a diagonal line\n",
    "tilted to the left, and a parallel line (it doesn’t matter if it is horizontal or vertical).\n",
    "We can summarize the labels (y) like this:\n",
    "\n",
    "![image.png](attachment:image.png)"
   ]
  },
  {
   "cell_type": "markdown",
   "metadata": {},
   "source": [
    "Also, let’s generate more and bigger images: one thousand images, each one ten-by-\n",
    "ten pixels in size"
   ]
  },
  {
   "cell_type": "code",
   "execution_count": 32,
   "metadata": {},
   "outputs": [],
   "source": [
    "images, labels = generate_dataset(img_size=10, n_images=1000, binary=False, seed=17)"
   ]
  },
  {
   "cell_type": "code",
   "execution_count": 33,
   "metadata": {},
   "outputs": [
    {
     "data": {
      "image/png": "[encoded data removed]",
      "text/plain": [
       "<Figure size 1080x324 with 30 Axes>"
      ]
     },
     "metadata": {},
     "output_type": "display_data"
    }
   ],
   "source": [
    "fig = plot_images(images, labels, n_plot=30)"
   ]
  },
  {
   "cell_type": "markdown",
   "metadata": {},
   "source": [
    "## Data Preparation"
   ]
  },
  {
   "cell_type": "markdown",
   "metadata": {},
   "source": [
    "The data preparation step would be identical to the one we used in Chapter 4 if it\n",
    "weren’t for one change: we will not perform data augmentation this time.\n",
    "\n",
    "> \"Why not?\"\n",
    "\n",
    "In our particular problem, flipping an image is potentially ruining the label. If we\n",
    "have an image containing a diagonal line tilted to the right (thus labeled as class\n",
    "index #1), and we flip it, the diagonal line would end up tilted to the left. But data\n",
    "augmentation does not change the labels, so the result is an image with a wrong\n",
    "label (class index #1, even though it would contain a left-tilted diagonal line).\n",
    "\n",
    "> Data augmentation may be useful, but it should not produce\n",
    "images that are inconsistent with their labels.\n",
    "\n",
    "That being said, we’re only keeping the min-max scaling using the Normalize\n",
    "transform. All the rest remains the same: splitting, datasets, sampler, and data\n",
    "loaders."
   ]
  },
  {
   "cell_type": "code",
   "execution_count": 34,
   "metadata": {},
   "outputs": [],
   "source": [
    "class TransformedTensorDataset(Dataset):\n",
    "    def __init__(self, x, y, transform=None):\n",
    "        self.x = x\n",
    "        self.y = y\n",
    "        self.transform = transform\n",
    "        \n",
    "    def __getitem__(self, index):\n",
    "        x = self.x[index]\n",
    "        \n",
    "        if self.transform:\n",
    "            x = self.transform(x)\n",
    "        \n",
    "        return x, self.y[index]\n",
    "        \n",
    "    def __len__(self):\n",
    "        return len(self.x)"
   ]
  },
  {
   "cell_type": "markdown",
   "metadata": {},
   "source": [
    "Data preparation."
   ]
  },
  {
   "cell_type": "code",
   "execution_count": 35,
   "metadata": {},
   "outputs": [],
   "source": [
    "# Builds tensors from numpy arrays BEFORE split\n",
    "# Modifies the scale of pixel values from [0, 255] to [0, 1]\n",
    "x_tensor = torch.as_tensor(images / 255).float()\n",
    "y_tensor = torch.as_tensor(labels).long()\n",
    "\n",
    "# Uses index_splitter to generate indices for training and\n",
    "# validation sets\n",
    "train_idx, val_idx = index_splitter(len(x_tensor), [80, 20])\n",
    "# Uses indices to perform the split\n",
    "x_train_tensor = x_tensor[train_idx]\n",
    "y_train_tensor = y_tensor[train_idx]\n",
    "x_val_tensor = x_tensor[val_idx]\n",
    "y_val_tensor = y_tensor[val_idx]\n",
    "\n",
    "# We're not doing any data augmentation now\n",
    "train_composer = Compose([Normalize(mean=(.5,), std=(.5,))])\n",
    "val_composer = Compose([Normalize(mean=(.5,), std=(.5,))])\n",
    "\n",
    "# Uses custom dataset to apply composed transforms to each set\n",
    "train_dataset = TransformedTensorDataset(x_train_tensor, y_train_tensor, transform=train_composer)\n",
    "val_dataset = TransformedTensorDataset(x_val_tensor, y_val_tensor, transform=val_composer)\n",
    "\n",
    "# Builds a weighted random sampler to handle imbalanced classes\n",
    "sampler = make_balanced_sampler(y_train_tensor)\n",
    "\n",
    "# Uses sampler in the training set to get a balanced data loader\n",
    "train_loader = DataLoader(dataset=train_dataset, batch_size=16, sampler=sampler)\n",
    "val_loader = DataLoader(dataset=val_dataset, batch_size=16)"
   ]
  },
  {
   "cell_type": "markdown",
   "metadata": {},
   "source": [
    "## Loss\n",
    "\n",
    "New problem, new loss. Since we’re embracing multiclass classification now, we\n",
    "need to use a different loss. And, once again, it all starts with our \"favorite\" subject:\n",
    "logits.\n",
    "\n",
    "#### Logits\n",
    "\n",
    "In binary classification problems, the model would produce one logit, and one logit\n",
    "only, for each data point. It makes sense, binary classification is about answering a\n",
    "simple question: \"does a given data point belong to the positive class?\".\n",
    "\n",
    "The **logit** output represented the log odds ratio (remember that?) of answering\n",
    "\"yes\" to the question above. The log odds ratio of a \"no\" answer was simply the\n",
    "inverse. There was no need to pose any other question to make a decision. And we\n",
    "used a sigmoid function to map logits to probabilities. It was a simple world :-)\n",
    "But a multiclass classification is more complex: we need to ask more questions,\n",
    "that is, **we need to get log odds ratios for every possible class. In other words, we\n",
    "need as many logits as there are classes.**\n",
    "\n",
    "> \"But a sigmoid takes only one logit. I guess we need something else to get probabilities, right?\"\n",
    "\n",
    "Absolutely correct! The function we’re looking for here is called **softmax**.\n"
   ]
  },
  {
   "cell_type": "markdown",
   "metadata": {},
   "source": [
    "### Softmax"
   ]
  },
  {
   "cell_type": "markdown",
   "metadata": {},
   "source": [
    "The softmax function returns, for each class, the contribution that a given class\n",
    "had to the **sum of odds ratios**. The class with a higher odds ratio will have the\n",
    "biggest contribution and thus the **highest probability**."
   ]
  },
  {
   "cell_type": "markdown",
   "metadata": {},
   "source": [
    "> Since the **softmax** is computed using odds ratios instead of log\n",
    "odds ratios (logits), we need to exponentiate the logits!"
   ]
  },
  {
   "cell_type": "markdown",
   "metadata": {},
   "source": [
    "$$\n",
    "\\Large\n",
    "\\begin{array}\n",
    "& z & = \\text{logit}(p) & = \\text{log odds ratio }(p) & = \\text{log}\\left(\\frac{p}{1-p}\\right)\n",
    "\\\\\n",
    "e^z & = e^{\\text{logit}(p)} & = \\text{odds ratio }(p) & = \\left(\\frac{p}{1-p}\\right)\n",
    "\\end{array}\n",
    "$$"
   ]
  },
  {
   "cell_type": "markdown",
   "metadata": {},
   "source": [
    "The softmax formula itself is quite simple:"
   ]
  },
  {
   "cell_type": "markdown",
   "metadata": {},
   "source": [
    "$$\n",
    "\\Large\n",
    "\\text{softmax}(z_i) = \\frac{e^{z_i}}{\\sum_{c=0}^{N_c-1}{e^{z_c}}}\n",
    "$$"
   ]
  },
  {
   "cell_type": "markdown",
   "metadata": {},
   "source": [
    "In the equation above, C stands for the number of classes and i corresponds to the\n",
    "index of a particular class. In our example, we have three classes, so our model\n",
    "needs to output three logits (z0, z1, z2). Applying softmax to these logits, we would\n",
    "get:"
   ]
  },
  {
   "cell_type": "markdown",
   "metadata": {},
   "source": [
    "$$\n",
    "\\Large\n",
    "\\text{softmax}(z) = \\left[\\frac{e^{z_0}}{e^{z_0}+e^{z_1}+e^{z_2}},\\frac{e^{z_1}}{e^{z_0}+e^{z_1}+e^{z_2}},\\frac{e^{z_2}}{e^{z_0}+e^{z_1}+e^{z_2}}\\right]\n",
    "$$"
   ]
  },
  {
   "cell_type": "markdown",
   "metadata": {},
   "source": [
    "Simple, right? Let’s see it in code now. Assuming our model produces this tensor\n",
    "containing three logits:"
   ]
  },
  {
   "cell_type": "code",
   "execution_count": 36,
   "metadata": {},
   "outputs": [],
   "source": [
    "logits = torch.tensor([ 1.3863,  0.0000, -0.6931])"
   ]
  },
  {
   "cell_type": "markdown",
   "metadata": {},
   "source": [
    "We exponentiate the logits to get the corresponding odds ratios:"
   ]
  },
  {
   "cell_type": "code",
   "execution_count": 37,
   "metadata": {},
   "outputs": [
    {
     "data": {
      "text/plain": [
       "tensor([4.0000, 1.0000, 0.5000])"
      ]
     },
     "execution_count": 37,
     "metadata": {},
     "output_type": "execute_result"
    }
   ],
   "source": [
    "odds_ratios = torch.exp(logits)\n",
    "odds_ratios"
   ]
  },
  {
   "cell_type": "markdown",
   "metadata": {},
   "source": [
    "The resulting tensor is telling us that the first class **has much better odds** than the other two, and the second one has better odds than the third. So we take these\n",
    "odds and add them together, and then compute the each class' contribution to the\n",
    "sum:"
   ]
  },
  {
   "cell_type": "code",
   "execution_count": 38,
   "metadata": {},
   "outputs": [
    {
     "data": {
      "text/plain": [
       "tensor([0.7273, 0.1818, 0.0909])"
      ]
     },
     "execution_count": 38,
     "metadata": {},
     "output_type": "execute_result"
    }
   ],
   "source": [
    "softmaxed = odds_ratios / odds_ratios.sum()\n",
    "softmaxed"
   ]
  },
  {
   "cell_type": "markdown",
   "metadata": {},
   "source": [
    "Voilà! Our logits were softmaxed: the probabilities are proportional to the odds\n",
    "ratios. This data point most likely belongs to the first class since it has a probability\n",
    "of 72.73%.\n",
    "But there is absolutely no need to compute it manually, of course. PyTorch\n",
    "provides the typical implementations: functional (F.softmax) and module\n",
    "(nn.Softmax):"
   ]
  },
  {
   "cell_type": "code",
   "execution_count": 39,
   "metadata": {},
   "outputs": [
    {
     "data": {
      "text/plain": [
       "(tensor([0.7273, 0.1818, 0.0909]), tensor([0.7273, 0.1818, 0.0909]))"
      ]
     },
     "execution_count": 39,
     "metadata": {},
     "output_type": "execute_result"
    }
   ],
   "source": [
    "nn.Softmax(dim=-1)(logits), F.softmax(logits, dim=-1)"
   ]
  },
  {
   "cell_type": "markdown",
   "metadata": {},
   "source": [
    "In both cases, it asks you to **provide which dimension** the softmax function should\n",
    "be applied to. In general, our models will produce logits with the shape (number of\n",
    "data points, number of classes), so **the right dimension to apply softmax to is the\n",
    "last one (dim=-1).**\n",
    "\n",
    "#### LogSoftmax.\n",
    "\n",
    "The logsoftmax function returns, well, the logarithm of the softmax function\n",
    "above. But, instead of manually taking the logarithm, PyTorch provides\n",
    "`F.log_softmax` and `nn.LogSoftmax` out of the box.\n",
    "\n",
    "These functions are **faster** and also have **better numerical properties**. But, I guess your main question at this point is:\n",
    "\n",
    "> \"Why do I need to take the log of the softmax?\"\n",
    "\n",
    "The simple and straightforward reason is that **the loss function expects log-probabilities as input.**\n"
   ]
  },
  {
   "cell_type": "markdown",
   "metadata": {},
   "source": [
    "### Negative Log Likelihood Loss"
   ]
  },
  {
   "cell_type": "markdown",
   "metadata": {},
   "source": [
    "Since the softmax returns **probabilities**, the logsoftmax returns **log-probabilities**. And that’s the input for computing the **negative log-likelihood loss**, or `NLLLoss` for short. \n",
    "\n",
    "This loss is simply an extension of the binary cross-entropy loss to handle multiple classes.\n",
    "\n",
    "This was the formula for computing binary cross-entropy:"
   ]
  },
  {
   "cell_type": "markdown",
   "metadata": {},
   "source": [
    "$$\n",
    "\\Large\n",
    "\\texttt{BCE}(y)={-\\frac{1}{(N_{\\text{pos}}+N_{\\text{neg}})}\\Bigg[{\\sum_{i=1}^{N_{\\text{pos}}}{\\text{log}(\\text{P}(y_i=1))} + \\sum_{i=1}^{N_{\\text{neg}}}{\\text{log}(1 - \\text{P}(y_i=1))}}\\Bigg]}\n",
    "\\\\\n",
    "$$"
   ]
  },
  {
   "cell_type": "markdown",
   "metadata": {},
   "source": [
    "See the log-probabilities in the summation terms? In our example, there are three\n",
    "classes, that is, our labels (y) could be either zero, one, or two. So, the loss function\n",
    "will look like this:"
   ]
  },
  {
   "cell_type": "markdown",
   "metadata": {},
   "source": [
    "$$\n",
    "\\Large\n",
    "\\texttt{NLLLoss}(y)={-\\frac{1}{(N_0+N_1+N_2)}\\Bigg[{\\sum_{i=1}^{N_0}{\\text{log}(\\text{P}(y_i=0))} + \\sum_{i=1}^{N_1}{\\text{log}(\\text{P}(y_i=1))} + \\sum_{i=1}^{N_2}{\\text{log}(\\text{P}(y_i=2))}}\\Bigg]}\n",
    "\\\\\n",
    "$$"
   ]
  },
  {
   "cell_type": "markdown",
   "metadata": {},
   "source": [
    "Take, for instance, the first class (**y=0**). For every data point belonging to this class\n",
    "(there are **N0** of them), we take the logarithm of the predicted probability for that\n",
    "point and class *(log(P(yi=0)))* and add them all up. Next, we repeat the process for\n",
    "the other two classes, add all three results up, and divide by the total number of\n",
    "data points.\n",
    "\n",
    "> The loss only considers the predicted probability for the true\n",
    "class.\n",
    "\n",
    "If a data point is labeled as belonging to class index two, the loss will consider the\n",
    "probability assigned to class index two only. The other probabilities will be\n",
    "completely ignored.\n",
    "\n",
    "For a total of C classes, the formula can be written like this:"
   ]
  },
  {
   "cell_type": "markdown",
   "metadata": {},
   "source": [
    "$$\n",
    "\\\\\n",
    "\\Large \\texttt{NLLLoss}(y)={-\\frac{1}{(N_0+\\cdots+N_{C-1})}\\sum_{c=0}^{C-1}{\\sum_{i=1}^{N_c}{\\text{log}(\\text{P}(y_i=c))} }}\n",
    "$$"
   ]
  },
  {
   "cell_type": "markdown",
   "metadata": {},
   "source": [
    "Since the **log-probabilities** are obtained by applying **logsoftmax**, this loss isn’t\n",
    "doing much more than looking up the inputs corresponding to the true class and\n",
    "adding them up. Let’s see this in code:"
   ]
  },
  {
   "cell_type": "code",
   "execution_count": 40,
   "metadata": {},
   "outputs": [
    {
     "data": {
      "text/plain": [
       "tensor([-0.3185, -1.7048, -2.3979])"
      ]
     },
     "execution_count": 40,
     "metadata": {},
     "output_type": "execute_result"
    }
   ],
   "source": [
    "log_probs = F.log_softmax(logits, dim=-1)\n",
    "log_probs"
   ]
  },
  {
   "cell_type": "markdown",
   "metadata": {},
   "source": [
    "These are the log-probabilities for each class we computed using logsoftmax for\n",
    "our single data point. Now, let’s assume its label is two: what is the corresponding\n",
    "loss?"
   ]
  },
  {
   "cell_type": "code",
   "execution_count": 41,
   "metadata": {},
   "outputs": [
    {
     "data": {
      "text/plain": [
       "tensor(2.3979)"
      ]
     },
     "execution_count": 41,
     "metadata": {},
     "output_type": "execute_result"
    }
   ],
   "source": [
    "label = torch.tensor([2])\n",
    "F.nll_loss(log_probs.view(-1, 3), label)"
   ]
  },
  {
   "cell_type": "markdown",
   "metadata": {},
   "source": [
    "It is the **negative** of the **log-probability** corresponding to the class index (two) of\n",
    "the true label.\n",
    "\n",
    "As you’ve probably noticed, I used the **functional** version of the loss in the snippet of\n",
    "code above: F.nll_loss. But, as we’ve done with the binary cross-entropy loss in\n",
    "Chapter 3, we’re likely using the module version: nn.NLLLoss.\n",
    "\n",
    "Just like before, this loss function is a higher-order function, and this one takes\n",
    "three optional arguments (the others are deprecated and you can safely ignore\n",
    "them):\n",
    "\n",
    "- `reduction`: it takes either mean, sum, or none. The default, mean, corresponds to our Equation 5.10 above. As expected, sum will return the sum of the errors, instead of the average. The last option, none, corresponds to the unreduced form, that is, it returns the full array of errors.\n",
    "\n",
    "- `weight`: it takes a tensor of length C, that is, containing as many weights as there are classes.\n",
    "\n",
    "> IMPORTANT: this argument can be used to **handle imbalanced\n",
    "datasets**, unlike the weight argument in the binary cross-entropy\n",
    "losses we’ve seen in Chapter 3.\n",
    "Also, unlike the `pos_weight` argument of `BCEWithLogitsLoss`, the\n",
    "NLLLoss computes a true weighted average when this argument\n",
    "is used.\n",
    "\n",
    "- ignore_index: it takes one integer, corresponding to the one (and only one) class index that should be ignored when computing the loss. It can be used to mask a particular label that is not relevant to the classification task."
   ]
  },
  {
   "cell_type": "markdown",
   "metadata": {},
   "source": [
    "Let’s go through some quick examples using the arguments above. First, we need to\n",
    "generate some dummy logits (we’ll keep using three classes, though), and the\n",
    "corresponding log-probabilities"
   ]
  },
  {
   "cell_type": "code",
   "execution_count": 42,
   "metadata": {},
   "outputs": [
    {
     "data": {
      "text/plain": [
       "tensor([[-1.5229, -0.3146, -2.9600],\n",
       "        [-1.7934, -1.0044, -0.7607],\n",
       "        [-1.2513, -1.0136, -1.0471],\n",
       "        [-2.6799, -0.2219, -2.0367],\n",
       "        [-1.0728, -1.9098, -0.6737]])"
      ]
     },
     "execution_count": 42,
     "metadata": {},
     "output_type": "execute_result"
    }
   ],
   "source": [
    "torch.manual_seed(11)\n",
    "dummy_logits = torch.randn((5, 3))\n",
    "#print(dummy_logits)\n",
    "dummy_labels = torch.tensor([0, 0, 1, 2, 1])\n",
    "dummy_log_probs = F.log_softmax(dummy_logits, dim=-1)\n",
    "dummy_log_probs"
   ]
  },
  {
   "cell_type": "markdown",
   "metadata": {},
   "source": [
    "> Can you hand-pick the log-probabilities that are going to be\n",
    "actually used in the loss computation?"
   ]
  },
  {
   "cell_type": "code",
   "execution_count": 43,
   "metadata": {},
   "outputs": [
    {
     "data": {
      "text/plain": [
       "tensor(1.6553)"
      ]
     },
     "execution_count": 43,
     "metadata": {},
     "output_type": "execute_result"
    }
   ],
   "source": [
    "relevant_log_probs = torch.tensor([-1.5229, -1.7934, -1.0136, -2.0367, -1.9098])\n",
    "-relevant_log_probs.mean()"
   ]
  },
  {
   "cell_type": "markdown",
   "metadata": {},
   "source": [
    "Now let’s use `nn.NLLLoss` to create the actual loss function, and then use\n",
    "predictions and labels to check if we got the relevant log-probabilities right:"
   ]
  },
  {
   "cell_type": "code",
   "execution_count": 44,
   "metadata": {},
   "outputs": [
    {
     "data": {
      "text/plain": [
       "tensor(1.6553)"
      ]
     },
     "execution_count": 44,
     "metadata": {},
     "output_type": "execute_result"
    }
   ],
   "source": [
    "loss_fn = nn.NLLLoss()\n",
    "loss_fn(dummy_log_probs, dummy_labels)"
   ]
  },
  {
   "cell_type": "markdown",
   "metadata": {},
   "source": [
    "Right indeed! What if we want to balance our dataset, giving data points with label\n",
    "(y=2) double the weight of the other classes?"
   ]
  },
  {
   "cell_type": "code",
   "execution_count": 45,
   "metadata": {},
   "outputs": [
    {
     "data": {
      "text/plain": [
       "tensor(1.7188)"
      ]
     },
     "execution_count": 45,
     "metadata": {},
     "output_type": "execute_result"
    }
   ],
   "source": [
    "loss_fn = nn.NLLLoss(weight=torch.tensor([1., 1., 2.]))\n",
    "loss_fn(dummy_log_probs, dummy_labels)"
   ]
  },
  {
   "cell_type": "markdown",
   "metadata": {},
   "source": [
    "And what if we want to simply ignore data points with label (y=2)?"
   ]
  },
  {
   "cell_type": "code",
   "execution_count": 46,
   "metadata": {},
   "outputs": [
    {
     "data": {
      "text/plain": [
       "tensor(1.5599)"
      ]
     },
     "execution_count": 46,
     "metadata": {},
     "output_type": "execute_result"
    }
   ],
   "source": [
    "loss_fn = nn.NLLLoss(ignore_index=2)\n",
    "loss_fn(dummy_log_probs, dummy_labels)"
   ]
  },
  {
   "cell_type": "markdown",
   "metadata": {},
   "source": [
    "And, once again, there is yet another loss function available for multiclass\n",
    "classification. And, once again, it is very important to know when to use one or the\n",
    "other, so you don’t end up with an inconsistent combination of model and loss\n",
    "function."
   ]
  },
  {
   "cell_type": "markdown",
   "metadata": {},
   "source": [
    "### Cross Entropy Loss\n",
    "\n",
    "The former loss function took log-probabilities as an argument (together with the\n",
    "labels, obviously). Guess what this function takes? **Logits**, of course! This is the\n",
    "multiclass version of `nn.BCEWithLogitsLoss`.\n",
    "\n",
    "> \"What does it mean, in practical terms?\"\n",
    "\n",
    "It means **you should NOT add a logsoftmax** as the last layer of your model when\n",
    "using this loss function. This loss combines both the **logsoftmax layer and the\n",
    "former negative log-likelihood loss into one**.\n",
    "\n",
    "> **IMPORTANT**: I can’t stress this enough: you must use the right\n",
    "combination of model and loss function.\n",
    "\n",
    "> **Option 1**: `nn.LogSoftmax` as the last layer, meaning your model is\n",
    "producing log-probabilities, combined with `nn.NLLLoss` function\n",
    "\n",
    "> **Option 2**: no logsoftmax in the last layer, meaning your model is\n",
    "producing logits, combined with `nn.CrossEntropyLoss` function.\n",
    "\n",
    "> Mixing nn.LogSoftmax and nn.CrossEntropyLoss is just wrong.\n",
    "\n",
    "Now that the difference in the arguments is clear, let’s take a closer look at the\n",
    "`nn.CrossEntropyLoss` function. It is also a higher-order function, and it takes the\n",
    "same three optional arguments as nn.NLLLoss:\n",
    "\n",
    "- `reduction`: it takes either mean, sum, or none, and the default is mean.\n",
    "- `weight`: it takes a tensor of length C, that is, containing as many weights as there are classes.\n",
    "- `ignore_index`: it takes one integer, corresponding to the one (and only one) class index that should be ignored.\n",
    "\n",
    "Let’s see a quick example of its usage, taking the dummy logits as input:"
   ]
  },
  {
   "cell_type": "code",
   "execution_count": 47,
   "metadata": {},
   "outputs": [
    {
     "data": {
      "text/plain": [
       "tensor(1.6553)"
      ]
     },
     "execution_count": 47,
     "metadata": {},
     "output_type": "execute_result"
    }
   ],
   "source": [
    "torch.manual_seed(11)\n",
    "dummy_logits = torch.randn((5, 3))\n",
    "dummy_labels = torch.tensor([0, 0, 1, 2, 1])\n",
    "\n",
    "loss_fn = nn.CrossEntropyLoss()\n",
    "loss_fn(dummy_logits, dummy_labels)"
   ]
  },
  {
   "cell_type": "markdown",
   "metadata": {},
   "source": [
    "No logsoftmax whatsoever but the same resulting loss, as expected."
   ]
  },
  {
   "attachments": {
    "image.png": {
     "image/png": "[encoded data removed]"
    }
   },
   "cell_type": "markdown",
   "metadata": {},
   "source": [
    "#### Classification Losses Showdown!\n",
    "\n",
    "Honestly, I always felt this whole thing is a bit confusing, especially for someone who’s learning it for the first time.\n",
    "\n",
    "Which loss functions take logits as inputs? Should I add a (log)softmax layer or not?\n",
    "\n",
    "Can I use the weight argument to handle imbalanced datasets? Too many questions, right?\n",
    "\n",
    "So, here is a table to help you figure out the landscape of loss functions for\n",
    "classification problems, both binary and multiclass:\n",
    "\n",
    "![image.png](attachment:image.png)"
   ]
  },
  {
   "cell_type": "markdown",
   "metadata": {},
   "source": [
    "## Model Configuration"
   ]
  },
  {
   "cell_type": "markdown",
   "metadata": {},
   "source": [
    "Let’s build our first convolutional neural network for real! We can use the typical\n",
    "convolutional block: convolutional layer, activation function, pooling layer. Our images are quite small, so we only need one of those.\n",
    "\n",
    "We still need to decide **how many channels** our convolutional layer is going to\n",
    "produce. In general, the number of channels **increases** with each convolutional\n",
    "block. For the sake of simplicity (and later visualization), let’s keep a single channel.\n",
    "\n",
    "We also need to decide on a **kernel size** (the receptive field or gray regions in the\n",
    "figures at the beginning of this chapter). Let’s stick with a kernel size of three,\n",
    "which will reduce the image size by two pixels in each dimension (we are not using\n",
    "padding here).\n",
    "\n",
    "Our **featurizer**, which will encode our images into features using convolutions,\n",
    "should look like this:"
   ]
  },
  {
   "cell_type": "code",
   "execution_count": 50,
   "metadata": {},
   "outputs": [],
   "source": [
    "torch.manual_seed(13)\n",
    "model_cnn1 = nn.Sequential()\n",
    "\n",
    "# Featurizer\n",
    "# Block 1: 1@10x10 -> n_channels@8x8 -> n_channels@4x4\n",
    "n_channels = 1\n",
    "model_cnn1.add_module('conv1', nn.Conv2d(in_channels=1, out_channels=n_channels, kernel_size=3))\n",
    "model_cnn1.add_module('relu1', nn.ReLU())\n",
    "model_cnn1.add_module('maxp1', nn.MaxPool2d(kernel_size=2))\n",
    "\n",
    "# Flattening: n_channels * 4 * 4\n",
    "model_cnn1.add_module('flatten', nn.Flatten())"
   ]
  },
  {
   "cell_type": "markdown",
   "metadata": {},
   "source": [
    "I am keeping the number of channels as a variable, so you can try different values\n",
    "for it if you like.\n",
    "\n",
    "Let’s follow what happens to an input image (single-channel, 10x10 pixels in size -\n",
    "1@10x10):\n",
    "\n",
    "- the image is convolved with the kernel and the resulting image has one channel, and it is 8x8 pixels in size (1@8x8)\n",
    "- a ReLU activation function is applied to the resulting image\n",
    "- the \"activated\" image goes under a max-pooling operation with a kernel size of two, so it is divided into 16 chunks of size two-by-two, resulting in an image with one channel, but 4x4 pixels in size (1@4x4)\n",
    "- these 16 values can be considered features, and are flattened into a tensor with 16 elements\n",
    "\n",
    "The next part of our model, the classifier part, uses these features to feed what would be a simple neural network with a single hidden layer if considered on its own:"
   ]
  },
  {
   "cell_type": "code",
   "execution_count": 51,
   "metadata": {},
   "outputs": [],
   "source": [
    "# Classification\n",
    "# Hidden Layer\n",
    "model_cnn1.add_module('fc1', nn.Linear(in_features=n_channels*4*4, out_features=10))\n",
    "model_cnn1.add_module('relu2', nn.ReLU())\n",
    "# Output Layer\n",
    "model_cnn1.add_module('fc2', nn.Linear(in_features=10, out_features=3))"
   ]
  },
  {
   "cell_type": "markdown",
   "metadata": {},
   "source": [
    "See? There is a hidden layer that takes the 16 features as inputs and maps them\n",
    "into a 10-dimensional space that is going to be \"activated\" by the ReLU.\n",
    "\n",
    "Then, the output layer produces **three distinct linear combinations of the ten\n",
    "activation values**, each combination corresponding to a different class. The figure\n",
    "below, depicting the second half of the model, should make it more clear:"
   ]
  },
  {
   "cell_type": "markdown",
   "metadata": {},
   "source": [
    "![](images/classification_softmax.png)"
   ]
  },
  {
   "cell_type": "markdown",
   "metadata": {},
   "source": [
    "The three units in the output layer produce **three logits**, one for each class (C0, C1,\n",
    "and C2). We could have added a nn.LogSoftmax layer to the model, and it would\n",
    "convert the three logits to log-probabilities.\n",
    "\n",
    "Since our model produces logits, we must use the nn.CrossEntropyLoss function:"
   ]
  },
  {
   "cell_type": "code",
   "execution_count": 52,
   "metadata": {},
   "outputs": [],
   "source": [
    "lr = 0.1\n",
    "multi_loss_fn = nn.CrossEntropyLoss(reduction='mean')\n",
    "optimizer_cnn1 = optim.SGD(model_cnn1.parameters(), lr=lr)"
   ]
  },
  {
   "cell_type": "markdown",
   "metadata": {},
   "source": [
    "And then we create an optimizer (SGD) with a given learning rate (0.1), as usual.\n",
    "Boring, right? No worries, we’ll finally change the optimizer in the \"Rock-Paper-\n",
    "Scissors\" classification problem in the next chapter."
   ]
  },
  {
   "cell_type": "markdown",
   "metadata": {},
   "source": [
    "## Model Training"
   ]
  },
  {
   "cell_type": "markdown",
   "metadata": {},
   "source": [
    "This part is completely straightforward. First, we instantiate our class, and set the\n",
    "loaders:"
   ]
  },
  {
   "cell_type": "code",
   "execution_count": 53,
   "metadata": {},
   "outputs": [],
   "source": [
    "sbs_cnn1 = StepByStep(model_cnn1, multi_loss_fn, optimizer_cnn1)\n",
    "sbs_cnn1.set_loaders(train_loader, val_loader)"
   ]
  },
  {
   "cell_type": "markdown",
   "metadata": {},
   "source": [
    "Then, we train it for 20 epochs, and visualize the losses:"
   ]
  },
  {
   "cell_type": "code",
   "execution_count": 54,
   "metadata": {},
   "outputs": [],
   "source": [
    "sbs_cnn1.train(20)"
   ]
  },
  {
   "cell_type": "code",
   "execution_count": 55,
   "metadata": {},
   "outputs": [
    {
     "data": {
      "image/png": "[encoded data removed]",
      "text/plain": [
       "<Figure size 720x288 with 1 Axes>"
      ]
     },
     "metadata": {},
     "output_type": "display_data"
    }
   ],
   "source": [
    "fig = sbs_cnn1.plot_losses()"
   ]
  },
  {
   "cell_type": "markdown",
   "metadata": {},
   "source": [
    "OK, it seems to have reached a minimum at the fifth epoch already."
   ]
  },
  {
   "cell_type": "markdown",
   "metadata": {},
   "source": [
    "## Visualizing Filters and More!"
   ]
  },
  {
   "cell_type": "markdown",
   "metadata": {},
   "source": [
    "In Chapter 4, we briefly discussed visualizing weights as pixels. We’re going to dive\n",
    "deeper into the visualization of filters (weights), as well as the transformed images\n",
    "produced by each one of our model’s layers.\n",
    "\n",
    "First, let’s add another method to our tool belt:"
   ]
  },
  {
   "cell_type": "code",
   "execution_count": 56,
   "metadata": {},
   "outputs": [],
   "source": [
    "@staticmethod\n",
    "def _visualize_tensors(axs, x, y=None, yhat=None, \n",
    "                       layer_name='', title=None):\n",
    "    # The number of images is the number of subplots in a row\n",
    "    n_images = len(axs)\n",
    "    # Gets max and min values for scaling the grayscale\n",
    "    minv, maxv = np.min(x[:n_images]), np.max(x[:n_images])\n",
    "    # For each image\n",
    "    for j, image in enumerate(x[:n_images]):\n",
    "        ax = axs[j]\n",
    "        # Sets title, labels, and removes ticks\n",
    "        if title is not None:\n",
    "            ax.set_title(f'{title} #{j}', fontsize=12)\n",
    "        shp = np.atleast_2d(image).shape\n",
    "        ax.set_ylabel(\n",
    "            f'{layer_name}\\n{shp[0]}x{shp[1]}',\n",
    "            rotation=0, labelpad=40\n",
    "        )\n",
    "        xlabel1 = '' if y is None else f'\\nLabel: {y[j]}'\n",
    "        xlabel2 = '' if yhat is None else f'\\nPredicted: {yhat[j]}'\n",
    "        xlabel = f'{xlabel1}{xlabel2}'\n",
    "        if len(xlabel):\n",
    "            ax.set_xlabel(xlabel, fontsize=12)\n",
    "        ax.set_xticks([])\n",
    "        ax.set_yticks([])\n",
    "\n",
    "        # Plots weight as an image\n",
    "        ax.imshow(\n",
    "            np.atleast_2d(image.squeeze()),\n",
    "            cmap='gray', \n",
    "            vmin=minv, \n",
    "            vmax=maxv\n",
    "        )\n",
    "    return\n",
    "\n",
    "setattr(StepByStep, '_visualize_tensors', _visualize_tensors)"
   ]
  },
  {
   "cell_type": "markdown",
   "metadata": {},
   "source": [
    "Most of the function’s body is handling titles, labels, and axes' ticks before using\n",
    "imshow to actually plot the image, so it is not that interesting. Let’s check its\n",
    "arguments:\n",
    "\n",
    "- `axs`: an array of subplots, corresponding to one row of subplots as returned by Matplotlib’s subplot\n",
    "- `x`: a Numpy array containing at least as many images/filters as subplots in axs\n",
    "- `y`: optional, a Numpy array containing at least as many labels as subplots in axs\n",
    "- `yhat`: optional, a Numpy array containing at least as many predicted labels as subplots in axs\n",
    "- `layer_name`: label for the row of subplots\n",
    "- `title`: title prefix for each subplot\n",
    "\n",
    "> \"What is that @staticmethod thingy above the method’s definition?\""
   ]
  },
  {
   "cell_type": "markdown",
   "metadata": {},
   "source": [
    "### Static Method\n",
    "\n",
    "The `“@”` indicates that the method sitting below it, `_visualize_tensors` is\n",
    "being decorated by the staticmethod decorator function.\n",
    "\n",
    "> \"What is a decorator?\"\n",
    "\n",
    "Python decorators is a big topic on its own, too long to explain here. If you\n",
    "want to learn more about it, check Real Python’s Primer on Python\n",
    "Decorators[90]. But I am not leaving you without a working knowledge of\n",
    "what that particular (and somewhat common) decorator is doing.\n",
    "\n",
    "The `@staticmethod` decorator **allows the method to be called on an\n",
    "uninstantiated class object**. It is as if we’re attaching a method to a class that\n",
    "does not depend on an instance of the class it is attached to.\n",
    "\n",
    "It is easy to see why: in every other method we have created so far for the\n",
    "StepByStep class, **the first argument was ALWAYS self**. So, those methods\n",
    "had access to the class they belonged to, better yet, they had access to a\n",
    "particular instance and its attributes. Remember the Dog class? The bark\n",
    "method knew the name of the dog because its first argument was the\n",
    "instance representing the dog (self).\n",
    "\n",
    "> A static method does **not have a self argument**. The inner\n",
    "workings of the function must be independent of the\n",
    "instance of the class it belongs to.\n",
    "> The static method **can be executed** from the class itself\n",
    "instead of one of its instances.\n",
    "\n",
    "Let me illustrate it with yet another silly example:"
   ]
  },
  {
   "cell_type": "code",
   "execution_count": 57,
   "metadata": {},
   "outputs": [],
   "source": [
    "class Cat(object):\n",
    "    def __init__(self, name):\n",
    "        self.name = name\n",
    "\n",
    "    @staticmethod\n",
    "    def meow():\n",
    "        print('Meow')"
   ]
  },
  {
   "cell_type": "markdown",
   "metadata": {},
   "source": [
    "The meow method is totally independent of the Cat class. **We do not even need\n",
    "to create a cat!** That’s what I meant with \"called on an uninstantiated class\n",
    "object\":"
   ]
  },
  {
   "cell_type": "code",
   "execution_count": 59,
   "metadata": {},
   "outputs": [
    {
     "name": "stdout",
     "output_type": "stream",
     "text": [
      "Meow\n"
     ]
    }
   ],
   "source": [
    "Cat.meow()"
   ]
  },
  {
   "cell_type": "markdown",
   "metadata": {},
   "source": [
    "See? The meow method could well be an independent function because it\n",
    "works like one. But, in the context of a cat class, it makes sense to have that\n",
    "method attached to it since they belong together, conceptually speaking."
   ]
  },
  {
   "cell_type": "markdown",
   "metadata": {},
   "source": [
    "Back to our own static method, we’ll call it from other (regular) methods to plot the\n",
    "images we’re interested in. Let’s start with the filters."
   ]
  },
  {
   "cell_type": "markdown",
   "metadata": {},
   "source": [
    "### Visualizing Filters"
   ]
  },
  {
   "cell_type": "markdown",
   "metadata": {},
   "source": [
    "We could apply the same principle to the **weights of the filter learned by our\n",
    "convolutional layer**. We can access the weights of any given layer using dot\n",
    "notation:"
   ]
  },
  {
   "cell_type": "code",
   "execution_count": 60,
   "metadata": {},
   "outputs": [
    {
     "data": {
      "text/plain": [
       "(1, 1, 3, 3)"
      ]
     },
     "execution_count": 60,
     "metadata": {},
     "output_type": "execute_result"
    }
   ],
   "source": [
    "weights_filter = model_cnn1.conv1.weight.data.cpu().numpy()\n",
    "weights_filter.shape"
   ]
  },
  {
   "cell_type": "markdown",
   "metadata": {},
   "source": [
    "Each layer has its own weight attribute, which is a `nn.Parameter`. We could use it\n",
    "directly, but then we would also have to **detach** the parameter from the\n",
    "computation graph before converting it to Numpy. So, it is **easier to use the `data`\n",
    "attribute of weight because it is simply a tensor, and no detaching is needed.**\n",
    "\n",
    "The shape of the weights (representing the filters) of a two-dimensional\n",
    "convolutional layer is given by **(out_channels, in_channels, kernel_size,\n",
    "kernel_size)**. In our case, the kernel size is three, and we have a single channel, both\n",
    "in and out, hence the shape of the weights is (1, 1, 3, 3).\n",
    "\n",
    "And that’s when the **static method** we developed in the previous section comes in\n",
    "handy: we can loop through the filters (output channels) that the model learned to\n",
    "convolve each one of the input channels."
   ]
  },
  {
   "cell_type": "code",
   "execution_count": 62,
   "metadata": {},
   "outputs": [],
   "source": [
    "def visualize_filters(self, layer_name, **kwargs):\n",
    "    try:\n",
    "        # Gets the layer object from the model\n",
    "        layer = self.model\n",
    "        for name in layer_name.split('.'):\n",
    "            layer = getattr(layer, name)\n",
    "        # We are only looking at filters for 2D convolutions\n",
    "        if isinstance(layer, nn.Conv2d):\n",
    "            # Takes the weight information\n",
    "            weights = layer.weight.data.cpu().numpy()\n",
    "            # weights -> (channels_out (filter), channels_in, H, W)\n",
    "            n_filters, n_channels, _, _ = weights.shape\n",
    "\n",
    "            # Builds a figure\n",
    "            size = (2 * n_channels + 2, 2 * n_filters)\n",
    "            fig, axes = plt.subplots(n_filters, n_channels, \n",
    "                                     figsize=size)\n",
    "            axes = np.atleast_2d(axes)\n",
    "            axes = axes.reshape(n_filters, n_channels)\n",
    "            # For each channel_out (filter)\n",
    "            for i in range(n_filters):    \n",
    "                StepByStep._visualize_tensors(\n",
    "                    axes[i, :],   # The i-th row of subplots corresponds to a particular filter, \n",
    "                                  # each row has as many columns as there are input channels\n",
    "                    weights[i],   # The i-th element of the weights corresponds to the i-th filter,\n",
    "                                  # which learned different weights to convolve each one of the input channels\n",
    "                    layer_name=f'Filter #{i}', \n",
    "                    title='Channel'\n",
    "                )\n",
    "                    \n",
    "            for ax in axes.flat:\n",
    "                ax.label_outer()\n",
    "\n",
    "            fig.tight_layout()\n",
    "            return fig\n",
    "    except AttributeError:\n",
    "        return\n",
    "    \n",
    "setattr(StepByStep, 'visualize_filters', visualize_filters)"
   ]
  },
  {
   "cell_type": "code",
   "execution_count": 63,
   "metadata": {},
   "outputs": [
    {
     "data": {
      "image/png": "[encoded data removed]",
      "text/plain": [
       "<Figure size 288x144 with 1 Axes>"
      ]
     },
     "metadata": {},
     "output_type": "display_data"
    }
   ],
   "source": [
    "fig = sbs_cnn1.visualize_filters('conv1', cmap='gray')"
   ]
  },
  {
   "cell_type": "markdown",
   "metadata": {},
   "source": [
    "Is this a filter one could come up with to try distinguishing between the different\n",
    "classes we have? Maybe, but just by looking at this filter, it is not easy to grasp what\n",
    "it is effectively accomplishing.\n",
    "\n",
    "To **really understand** the effect this filter has on each image, we need to **visualize\n",
    "the intermediate values produced by our model**, namely, the output of each and\n",
    "every layer!\n",
    "\n",
    "> \"How can we visualize the output of each layer? Do we have to modify our StepByStep class to capture those?\"\n",
    "\n",
    "It is much easier than that: we can use **hooks**!"
   ]
  },
  {
   "cell_type": "markdown",
   "metadata": {},
   "source": [
    "### Hooks\n",
    "\n",
    "A hook is simply a way to force a model to execute a function either after its\n",
    "**forward or after its backward pass**. Hence, there are forward hooks and backward\n",
    "hooks. We’re using only forward hooks here, but the idea is the same for both.\n",
    "\n",
    "First, we create a function that is going to be, guess what, hooked to the forward\n",
    "pass. Let’s illustrate the process with a dummy model:"
   ]
  },
  {
   "cell_type": "code",
   "execution_count": 64,
   "metadata": {},
   "outputs": [],
   "source": [
    "dummy_model = nn.Linear(1, 1)\n",
    "\n",
    "dummy_list = []\n",
    "\n",
    "def dummy_hook(layer, inputs, outputs):\n",
    "    dummy_list.append((layer, inputs, outputs))"
   ]
  },
  {
   "cell_type": "markdown",
   "metadata": {},
   "source": [
    ",The (forward) hook function takes three arguments:\n",
    "\n",
    "- a model (or layer)\n",
    "- a tensor representing the inputs taken by that model (or layer)\n",
    "- a tensor representing the outputs generated by that model (or layer)\n",
    "\n",
    "So, any function taking three arguments, regardless of their names, can work as a\n",
    "hook. In our case (and in many other cases too), we would like to **keep the\n",
    "information** that goes through the hook function.\n",
    "\n",
    "> You should use a variable (or variables) defined **outside** the\n",
    "hook function to store values.\n",
    "\n",
    "That’s the role of the `dummy_list` variable in the snippet above. Our dummy_hook\n",
    "function is as basic as it gets: it simply appends a tuple of its three arguments to the\n",
    "dummy_list variable defined outside the hook function.\n",
    "\n",
    "> \"How to hook the hook function to the model?\"\n",
    "\n",
    "There is a method for it: `register_forward_hook`, which takes the hook function\n",
    "and returns a handle, so we can keep track of the hooks attached to our model."
   ]
  },
  {
   "cell_type": "code",
   "execution_count": 65,
   "metadata": {},
   "outputs": [
    {
     "data": {
      "text/plain": [
       "<torch.utils.hooks.RemovableHandle at 0x19f00761c70>"
      ]
     },
     "execution_count": 65,
     "metadata": {},
     "output_type": "execute_result"
    }
   ],
   "source": [
    "dummy_handle = dummy_model.register_forward_hook(dummy_hook)\n",
    "dummy_handle"
   ]
  },
  {
   "cell_type": "markdown",
   "metadata": {},
   "source": [
    "Simple enough, right? Let’s see it in action:"
   ]
  },
  {
   "cell_type": "code",
   "execution_count": 66,
   "metadata": {},
   "outputs": [
    {
     "data": {
      "text/plain": [
       "tensor([-0.8366], grad_fn=<AddBackward0>)"
      ]
     },
     "execution_count": 66,
     "metadata": {},
     "output_type": "execute_result"
    }
   ],
   "source": [
    "dummy_x = torch.tensor([0.3])\n",
    "dummy_model.forward(dummy_x)"
   ]
  },
  {
   "cell_type": "markdown",
   "metadata": {},
   "source": [
    "It should add a new tuple to the dummy list, containing a linear layer, an input\n",
    "tensor (0.3), and an output tensor (-0.7514). By the way, your values are going to be\n",
    "different than mine, since we didn’t bother to use a seed here."
   ]
  },
  {
   "cell_type": "code",
   "execution_count": 67,
   "metadata": {},
   "outputs": [
    {
     "data": {
      "text/plain": [
       "[]"
      ]
     },
     "execution_count": 67,
     "metadata": {},
     "output_type": "execute_result"
    }
   ],
   "source": [
    "dummy_list"
   ]
  },
  {
   "cell_type": "markdown",
   "metadata": {},
   "source": [
    "> \"Empty?! So it is not working?\"\n",
    "\n",
    "GOTCHA! I deliberately used the model’s forward method here to illustrate\n",
    "something we’ve discussed much earlier, in Chapter 1:\n",
    "\n",
    "> You should NOT call the forward(x) method! You should call the\n",
    "whole model instead, as in model(x) to perform a forward pass.\n",
    "Otherwise, your hooks won’t work.\n",
    "\n",
    "Let’s do it right this time:"
   ]
  },
  {
   "cell_type": "code",
   "execution_count": 68,
   "metadata": {},
   "outputs": [
    {
     "data": {
      "text/plain": [
       "tensor([-0.8366], grad_fn=<AddBackward0>)"
      ]
     },
     "execution_count": 68,
     "metadata": {},
     "output_type": "execute_result"
    }
   ],
   "source": [
    "dummy_model(dummy_x)"
   ]
  },
  {
   "cell_type": "code",
   "execution_count": 69,
   "metadata": {},
   "outputs": [
    {
     "data": {
      "text/plain": [
       "[(Linear(in_features=1, out_features=1, bias=True),\n",
       "  (tensor([0.3000]),),\n",
       "  tensor([-0.8366], grad_fn=<AddBackward0>))]"
      ]
     },
     "execution_count": 69,
     "metadata": {},
     "output_type": "execute_result"
    }
   ],
   "source": [
    "dummy_list"
   ]
  },
  {
   "cell_type": "markdown",
   "metadata": {},
   "source": [
    "Now we’re talking! Here is the tuple we were expecting! If you call the model once\n",
    "again, it will append yet another tuple to the list, and so on and so forth. This hook\n",
    "is going to be hooked to our model until it is explicitly removed (hence the need to\n",
    "keep the handles). To remove a hook, you can simply call its remove method:"
   ]
  },
  {
   "cell_type": "code",
   "execution_count": 70,
   "metadata": {},
   "outputs": [],
   "source": [
    "dummy_handle.remove()"
   ]
  },
  {
   "cell_type": "markdown",
   "metadata": {},
   "source": [
    "And the hook goes bye-bye! But we did not lose the collected information, since\n",
    "our variable, dummy_list was defined outside the hook function.\n",
    "\n",
    "Look at the first element of the tuple: it is an instance of a model (or layer). Even if\n",
    "we use a Sequential model and name the layers, the names won’t make it to the\n",
    "hook function. So **we need to be clever here and make the association ourselves.**\n",
    "\n",
    "Let’s get back to our real model now. We can get a list of all its named modules\n",
    "using the appropriate method: named_modules (what else could it be?!):"
   ]
  },
  {
   "cell_type": "code",
   "execution_count": 71,
   "metadata": {},
   "outputs": [
    {
     "data": {
      "text/plain": [
       "[('',\n",
       "  Sequential(\n",
       "    (conv1): Conv2d(1, 1, kernel_size=(3, 3), stride=(1, 1))\n",
       "    (relu1): ReLU()\n",
       "    (maxp1): MaxPool2d(kernel_size=2, stride=2, padding=0, dilation=1, ceil_mode=False)\n",
       "    (flatten): Flatten(start_dim=1, end_dim=-1)\n",
       "    (fc1): Linear(in_features=16, out_features=10, bias=True)\n",
       "    (relu2): ReLU()\n",
       "    (fc2): Linear(in_features=10, out_features=3, bias=True)\n",
       "  )),\n",
       " ('conv1', Conv2d(1, 1, kernel_size=(3, 3), stride=(1, 1))),\n",
       " ('relu1', ReLU()),\n",
       " ('maxp1',\n",
       "  MaxPool2d(kernel_size=2, stride=2, padding=0, dilation=1, ceil_mode=False)),\n",
       " ('flatten', Flatten(start_dim=1, end_dim=-1)),\n",
       " ('fc1', Linear(in_features=16, out_features=10, bias=True)),\n",
       " ('relu2', ReLU()),\n",
       " ('fc2', Linear(in_features=10, out_features=3, bias=True))]"
      ]
     },
     "execution_count": 71,
     "metadata": {},
     "output_type": "execute_result"
    }
   ],
   "source": [
    "modules = list(sbs_cnn1.model.named_modules())\n",
    "modules"
   ]
  },
  {
   "cell_type": "markdown",
   "metadata": {},
   "source": [
    "The first, unnamed, module is the whole model itself. The other modules are its\n",
    "layers. And those layers are one of the inputs of the hook function. So, we need to\n",
    "be able to look up the name, given the corresponding layer instance… if only\n",
    "there was something we could use to easily look up values, right?"
   ]
  },
  {
   "cell_type": "markdown",
   "metadata": {},
   "source": [
    "A dictionary is perfect for that: the hook function will take the layer instance as\n",
    "argument, and look its name up in the dictionary!"
   ]
  },
  {
   "cell_type": "code",
   "execution_count": 72,
   "metadata": {},
   "outputs": [
    {
     "data": {
      "text/plain": [
       "{Conv2d(1, 1, kernel_size=(3, 3), stride=(1, 1)): 'conv1',\n",
       " ReLU(): 'relu1',\n",
       " MaxPool2d(kernel_size=2, stride=2, padding=0, dilation=1, ceil_mode=False): 'maxp1',\n",
       " Flatten(start_dim=1, end_dim=-1): 'flatten',\n",
       " Linear(in_features=16, out_features=10, bias=True): 'fc1',\n",
       " ReLU(): 'relu2',\n",
       " Linear(in_features=10, out_features=3, bias=True): 'fc2'}"
      ]
     },
     "execution_count": 72,
     "metadata": {},
     "output_type": "execute_result"
    }
   ],
   "source": [
    "layer_names = {layer: name for name, layer in modules[1:]}\n",
    "layer_names"
   ]
  },
  {
   "cell_type": "markdown",
   "metadata": {},
   "source": [
    "OK, it is time to create a real hook function:"
   ]
  },
  {
   "cell_type": "code",
   "execution_count": 73,
   "metadata": {},
   "outputs": [],
   "source": [
    "visualization = {}\n",
    "\n",
    "def hook_fn(layer, inputs, outputs):\n",
    "    name = layer_names[layer]\n",
    "    visualization[name] = outputs.detach().cpu().numpy()"
   ]
  },
  {
   "cell_type": "markdown",
   "metadata": {},
   "source": [
    "It is actually quite simple: it looks up the name of the layer and uses it as a key to a\n",
    "dictionary defined outside the hook function, which will store the outputs\n",
    "produced by the hooked layer. The inputs are being ignored in this function.\n",
    "\n",
    "We can make a list of the layers we’d like to get the outputs from, loop through the\n",
    "list of named modules, and hook our function to the desired layers, **keeping the\n",
    "handles in another dictionary**:"
   ]
  },
  {
   "cell_type": "code",
   "execution_count": 76,
   "metadata": {},
   "outputs": [],
   "source": [
    "layers_to_hook = ['conv1', 'relu1', 'maxp1', 'flatten', 'fc1', 'relu2', 'fc2']\n",
    "\n",
    "handles = {}\n",
    "\n",
    "for name, layer in modules:\n",
    "    if name in layers_to_hook:\n",
    "        handles[name] = layer.register_forward_hook(hook_fn)"
   ]
  },
  {
   "cell_type": "markdown",
   "metadata": {},
   "source": [
    "Everything is in place now! The only thing left to do is to actually call the model, so\n",
    "a forward pass is triggered, the hooks are executed, and the outputs to all these\n",
    "layers are stored in the visualization dictionary.\n",
    "\n",
    "Let’s fetch one mini-batch from the validation loader and use the predict method\n",
    "of our StepByStep class (which will then call the trained model):"
   ]
  },
  {
   "cell_type": "code",
   "execution_count": 77,
   "metadata": {},
   "outputs": [],
   "source": [
    "images_batch, labels_batch = iter(val_loader).next()\n",
    "logits = sbs_cnn1.predict(images_batch)"
   ]
  },
  {
   "cell_type": "markdown",
   "metadata": {},
   "source": [
    "Now, if everything went well, our visualization dictionary should contain one key\n",
    "for each layer we hooked a function to:"
   ]
  },
  {
   "cell_type": "code",
   "execution_count": 78,
   "metadata": {},
   "outputs": [
    {
     "data": {
      "text/plain": [
       "dict_keys(['conv1', 'relu1', 'maxp1', 'flatten', 'fc1', 'relu2', 'fc2'])"
      ]
     },
     "execution_count": 78,
     "metadata": {},
     "output_type": "execute_result"
    }
   ],
   "source": [
    "visualization.keys()"
   ]
  },
  {
   "cell_type": "markdown",
   "metadata": {},
   "source": [
    "Bingo! They are all there! But, before checking what’s stored inside it, let’s remove\n",
    "the hooks:"
   ]
  },
  {
   "cell_type": "code",
   "execution_count": 79,
   "metadata": {},
   "outputs": [],
   "source": [
    "for handle in handles.values():\n",
    "    handle.remove()\n",
    "handles = {}"
   ]
  },
  {
   "cell_type": "markdown",
   "metadata": {},
   "source": [
    "> ! Make sure to always remove the hooks after they served their\n",
    "purpose to avoid unnecessary operations that may slow down\n",
    "your model.\n",
    "\n",
    "Maybe I got you hooked (sorry, I really like puns!), maybe not. Anyway, to make it\n",
    "easier for you to get some layers hooked so you can take a peek at what they are\n",
    "producing, we’re appending some methods to our StepByStep class: **attach_hooks\n",
    "and remove_hooks**.\n",
    "\n",
    "First, we are creating two dictionaries as attributes, visualization and handles,\n",
    "which will be the externally defined variables (external to the methods, that is).\n",
    "\n",
    "The attach_hooks method has its own, internal, hook function that is going to store\n",
    "a layer’s outputs in the visualization attribute. The method handles everything\n",
    "for us: mapping between layer instances and their names, and registering the hook\n",
    "function with the desired layers.\n",
    "\n",
    "The remove_hooks is pretty much exactly the same code, except for the fact that it\n",
    "uses the handles attribute now."
   ]
  },
  {
   "cell_type": "code",
   "execution_count": 80,
   "metadata": {},
   "outputs": [],
   "source": [
    "setattr(StepByStep, 'visualization', {})\n",
    "setattr(StepByStep, 'handles', {})\n",
    "\n",
    "def attach_hooks(self, layers_to_hook, hook_fn=None):\n",
    "    # Clear any previous values\n",
    "    self.visualization = {}\n",
    "    # Creates the dictionary to map layer objects to their names\n",
    "    modules = list(self.model.named_modules())\n",
    "    layer_names = {layer: name for name, layer in modules[1:]}\n",
    "\n",
    "    if hook_fn is None:\n",
    "        # Hook function to be attached to the forward pass\n",
    "        def hook_fn(layer, inputs, outputs):\n",
    "            # Gets the layer name\n",
    "            name = layer_names[layer]\n",
    "            # Detaches outputs\n",
    "            values = outputs.detach().cpu().numpy()\n",
    "            # Since the hook function may be called multiple times\n",
    "            # for example, if we make predictions for multiple mini-batches\n",
    "            # it concatenates the results\n",
    "            if self.visualization[name] is None:\n",
    "                self.visualization[name] = values\n",
    "            else:\n",
    "                self.visualization[name] = np.concatenate([self.visualization[name], values])\n",
    "\n",
    "    for name, layer in modules:\n",
    "        # If the layer is in our list\n",
    "        if name in layers_to_hook:\n",
    "            # Initializes the corresponding key in the dictionary\n",
    "            self.visualization[name] = None\n",
    "            # Register the forward hook and keep the handle in another dict\n",
    "            self.handles[name] = layer.register_forward_hook(hook_fn)\n",
    "\n",
    "def remove_hooks(self):\n",
    "    # Loops through all hooks and removes them\n",
    "    for handle in self.handles.values():\n",
    "        handle.remove()\n",
    "    # Clear the dict, as all hooks have been removed\n",
    "    self.handles = {}\n",
    "    \n",
    "setattr(StepByStep, 'attach_hooks', attach_hooks)\n",
    "setattr(StepByStep, 'remove_hooks', remove_hooks)"
   ]
  },
  {
   "cell_type": "markdown",
   "metadata": {},
   "source": [
    "The procedure is fairly straightforward now: give it a list containing the names of\n",
    "the layers to attach hooks to, and you’re done!"
   ]
  },
  {
   "cell_type": "code",
   "execution_count": 81,
   "metadata": {},
   "outputs": [],
   "source": [
    "sbs_cnn1.attach_hooks(layers_to_hook=['conv1', 'relu1', 'maxp1', 'flatten', 'fc1', 'relu2', 'fc2'])"
   ]
  },
  {
   "cell_type": "markdown",
   "metadata": {},
   "source": [
    "To get the visualization attribute filled with values, we still need to make\n",
    "predictions:"
   ]
  },
  {
   "cell_type": "code",
   "execution_count": 84,
   "metadata": {},
   "outputs": [],
   "source": [
    "images_batch, labels_batch = iter(val_loader).next()\n",
    "logits = sbs_cnn1.predict(images_batch)"
   ]
  },
  {
   "cell_type": "markdown",
   "metadata": {},
   "source": [
    "Don’t forget to remove the hooks after you’re finished with the predictions. By the\n",
    "way, you can call predict multiple times and the outputs produced by the hooked\n",
    "layers will be concatenated"
   ]
  },
  {
   "cell_type": "code",
   "execution_count": 85,
   "metadata": {},
   "outputs": [],
   "source": [
    "sbs_cnn1.remove_hooks()"
   ]
  },
  {
   "cell_type": "markdown",
   "metadata": {},
   "source": [
    "Before moving on, don’t forget the model is producing logits as outputs. To get the\n",
    "predicted classes, we can simply **take the index of the largest logit for each data\n",
    "point**:"
   ]
  },
  {
   "cell_type": "code",
   "execution_count": 86,
   "metadata": {},
   "outputs": [
    {
     "data": {
      "text/plain": [
       "array([2, 2, 2, 0, 0, 0, 2, 2, 2, 1, 0, 1, 2, 1, 2, 0], dtype=int64)"
      ]
     },
     "execution_count": 86,
     "metadata": {},
     "output_type": "execute_result"
    }
   ],
   "source": [
    "predicted = np.argmax(logits, 1)\n",
    "predicted"
   ]
  },
  {
   "cell_type": "markdown",
   "metadata": {},
   "source": [
    "We’ll use the predicted classes in the next section"
   ]
  },
  {
   "cell_type": "markdown",
   "metadata": {},
   "source": [
    "### Visualizing Feature Maps"
   ]
  },
  {
   "cell_type": "markdown",
   "metadata": {},
   "source": [
    "First, let’s visualize the first ten images sampled from the validation loader"
   ]
  },
  {
   "cell_type": "code",
   "execution_count": 87,
   "metadata": {},
   "outputs": [
    {
     "data": {
      "image/png": "[encoded data removed]",
      "text/plain": [
       "<Figure size 1080x108 with 10 Axes>"
      ]
     },
     "metadata": {},
     "output_type": "display_data"
    }
   ],
   "source": [
    "fig = plot_images(images_batch.squeeze(), labels_batch.squeeze(), n_plot=10)"
   ]
  },
  {
   "cell_type": "markdown",
   "metadata": {},
   "source": [
    "The first part of our model, which we called **featurizer**, has **four layers**: three in a\n",
    "typical convolutional block, and a flattening layer. The **outputs of these layers are\n",
    "the feature maps**, which were captured by our hook function when we made\n",
    "predictions for the first mini-batch of the validation loader.\n",
    "\n",
    "To visualize the feature maps, we can add another method to our class:\n",
    "`visualize_outputs`. This method **simply retrieves the captured feature maps** from\n",
    "the visualization dictionary and uses our _visualize_tensors method to plot\n",
    "them:"
   ]
  },
  {
   "cell_type": "code",
   "execution_count": 88,
   "metadata": {},
   "outputs": [],
   "source": [
    "def visualize_outputs(self, layers, n_images=10, y=None, yhat=None):\n",
    "    layers = filter(lambda l: l in self.visualization.keys(), layers)\n",
    "    layers = list(layers)\n",
    "    shapes = [self.visualization[layer].shape for layer in layers]\n",
    "    n_rows = [shape[1] if len(shape) == 4 else 1 \n",
    "              for shape in shapes]\n",
    "    total_rows = np.sum(n_rows)\n",
    "\n",
    "    fig, axes = plt.subplots(total_rows, n_images, \n",
    "                             figsize=(1.5*n_images, 1.5*total_rows))\n",
    "    axes = np.atleast_2d(axes).reshape(total_rows, n_images)\n",
    "    \n",
    "    # Loops through the layers, one layer per row of subplots\n",
    "    row = 0\n",
    "    for i, layer in enumerate(layers):\n",
    "        start_row = row\n",
    "        # Takes the produced feature maps for that layer\n",
    "        output = self.visualization[layer]\n",
    "            \n",
    "        is_vector = len(output.shape) == 2\n",
    "        \n",
    "        for j in range(n_rows[i]):\n",
    "            StepByStep._visualize_tensors(\n",
    "                axes[row, :],\n",
    "                output if is_vector else output[:, j].squeeze(),\n",
    "                y, \n",
    "                yhat, \n",
    "                layer_name=layers[i] \\\n",
    "                           if is_vector \\\n",
    "                           else f'{layers[i]}\\nfil#{row-start_row}',\n",
    "                title='Image' if (row == 0) else None\n",
    "            )\n",
    "            row += 1\n",
    "            \n",
    "    for ax in axes.flat:\n",
    "        ax.label_outer()\n",
    "\n",
    "    plt.tight_layout()\n",
    "    return fig\n",
    "\n",
    "setattr(StepByStep, 'visualize_outputs', visualize_outputs)"
   ]
  },
  {
   "cell_type": "markdown",
   "metadata": {},
   "source": [
    "Then, let’s use the method above to plot the feature maps for the layers in the\n",
    "featurizer part of our model:"
   ]
  },
  {
   "cell_type": "code",
   "execution_count": 89,
   "metadata": {},
   "outputs": [
    {
     "data": {
      "image/png": "[encoded data removed]",
      "text/plain": [
       "<Figure size 1080x432 with 40 Axes>"
      ]
     },
     "metadata": {},
     "output_type": "display_data"
    }
   ],
   "source": [
    "featurizer_layers = ['conv1', 'relu1', 'maxp1', 'flatten']\n",
    "\n",
    "with plt.style.context('seaborn-white'):\n",
    "    fig = sbs_cnn1.visualize_outputs(featurizer_layers)"
   ]
  },
  {
   "cell_type": "markdown",
   "metadata": {},
   "source": [
    "Looks cool, right? Even though I’ve plotted the images in the first four rows with\n",
    "the same size, they have different dimensions, as indicated by the row labels on the\n",
    "left. The shade of gray is also computed per row: the maximum (white) and\n",
    "minimum (black) values were computed across the ten images produced by a given\n",
    "layer, otherwise, some rows would be too dark (the ranges vary a lot from one layer\n",
    "to the next).\n",
    "\n",
    "What can we learn from these images? First, convolving the learned filter with the\n",
    "input image produces some interesting results:\n",
    "\n",
    "- for diagonals tilted to the left (images #0, #1, #2, and #7), the filter seems to suppress the diagonal completely\n",
    "- for parallel lines (only verticals in the example above, images #3 to #6, and #8), the filter produces a striped pattern, brighter to the left of the original line, darker to its right\n",
    "- for diagonals tilted to the right (only image #9), the filter produces a thicker line with multiple shades"
   ]
  },
  {
   "cell_type": "markdown",
   "metadata": {},
   "source": [
    "Then, the ReLU activation function removes the negative values. Unfortunately,\n",
    "after this operation, images #6 and #8 (parallel vertical lines) had all lines\n",
    "suppressed and seem indistinguishable from images #0, #1, #2, and #7 (diagonals\n",
    "tilted to the left).\n",
    "\n",
    "Next, max-pooling reduces the dimensions of the images, and they get flattened to\n",
    "represent 16 features.\n",
    "\n",
    "Now, look at the **flattened features**. That’s what the classifier will look at to try to\n",
    "split the images into three different classes. For a relatively simple problem like\n",
    "this, we can pretty much see the patterns there. Let’s see what the classifier layers\n",
    "can make of it."
   ]
  },
  {
   "cell_type": "markdown",
   "metadata": {},
   "source": [
    "### Visualizing Classifier Layers"
   ]
  },
  {
   "cell_type": "markdown",
   "metadata": {},
   "source": [
    "The second part of our model, which is aptly called a classifier, has the typical\n",
    "structure: a hidden layer (FC1), an activation function, and an output layer (FC2).\n",
    "Let’s visualize the outputs of each and every one of these layers that were\n",
    "captured by our hook function for the same ten images:"
   ]
  },
  {
   "cell_type": "code",
   "execution_count": 90,
   "metadata": {},
   "outputs": [
    {
     "data": {
      "image/png": "[encoded data removed]",
      "text/plain": [
       "<Figure size 1080x324 with 30 Axes>"
      ]
     },
     "metadata": {},
     "output_type": "display_data"
    }
   ],
   "source": [
    "classifier_layers = ['fc1', 'relu2', 'fc2']\n",
    "\n",
    "with plt.style.context('seaborn-white'):\n",
    "    fig = sbs_cnn1.visualize_outputs(classifier_layers, y=labels_batch, yhat=predicted)"
   ]
  },
  {
   "cell_type": "markdown",
   "metadata": {},
   "source": [
    "The hidden layer performed an **affine transformation** (remember those?), reducing\n",
    "the dimensionality from 16 to 10 dimensions. Next, the activation function, a ReLU,\n",
    "eliminated negative values, resulting in the \"activated\" feature space in the middle\n",
    "row.\n",
    "\n",
    "Finally, the output layer used these 10 values to compute **three logits**, one for each\n",
    "class. Even without transforming them into probabilities, we know that the biggest\n",
    "logit wins. The biggest logit is shown as the brightest pixel, so we can tell which\n",
    "class was predicted by looking at the three shades of gray and picking the index of\n",
    "the brightest one.\n",
    "\n",
    "The classifier got eight out of ten right. It made wrong predictions for images #6\n",
    "and #8. **Unsurprisingly, these are the two images that got their vertical lines\n",
    "suppressed**. The filter doesn’t seem to work so well whenever the vertical line is\n",
    "too close to the left edge of the image."
   ]
  },
  {
   "cell_type": "markdown",
   "metadata": {},
   "source": [
    "### Accuracy\n",
    "\n",
    "In Chapter 3, we made predictions using our own predict method and used Scikit- Learn’s metrics module to evaluate them. Now, let’s build a method that takes features (x) and labels (y), as returned by a data loader, and that takes all necessary steps to produce two values for each class: the number of correct predictions, and the number of data points in that class."
   ]
  },
  {
   "cell_type": "code",
   "execution_count": 91,
   "metadata": {},
   "outputs": [],
   "source": [
    "def correct(self, x, y, threshold=.5):\n",
    "    self.model.eval()\n",
    "    yhat = self.model(x.to(self.device))\n",
    "    y = y.to(self.device)\n",
    "    self.model.train()\n",
    "    \n",
    "    # We get the size of the batch and the number of classes \n",
    "    # (only 1, if it is binary)\n",
    "    n_samples, n_dims = yhat.shape\n",
    "    if n_dims > 1:        \n",
    "        # In a multiclass classification, the biggest logit\n",
    "        # always wins, so we don't bother getting probabilities\n",
    "        \n",
    "        # This is PyTorch's version of argmax, \n",
    "        # but it returns a tuple: (max value, index of max value)\n",
    "        _, predicted = torch.max(yhat, 1)\n",
    "    else:\n",
    "        n_dims += 1\n",
    "        # In binary classification, we NEED to check if the\n",
    "        # last layer is a sigmoid (and then it produces probs)\n",
    "        if isinstance(self.model, nn.Sequential) and \\\n",
    "           isinstance(self.model[-1], nn.Sigmoid):\n",
    "            predicted = (yhat > threshold).long()\n",
    "        # or something else (logits), which we need to convert\n",
    "        # using a sigmoid\n",
    "        else:\n",
    "            predicted = (F.sigmoid(yhat) > threshold).long()\n",
    "    \n",
    "    # How many samples got classified correctly for each class\n",
    "    result = []\n",
    "    for c in range(n_dims):\n",
    "        n_class = (y == c).sum().item()\n",
    "        n_correct = (predicted[y == c] == c).sum().item()\n",
    "        result.append((n_correct, n_class))\n",
    "    return torch.tensor(result)\n",
    "\n",
    "setattr(StepByStep, 'correct', correct)"
   ]
  },
  {
   "cell_type": "markdown",
   "metadata": {},
   "source": [
    "If the labels have two or more columns, it means we’re dealing with a multiclass\n",
    "classification: the predicted class is the one with the biggest logit.\n",
    "\n",
    "If there is a single column of labels, that would be a binary classification: the\n",
    "predicted class will be the positive class if the predicted probability is above a\n",
    "given threshold (usually 0.5). But there’s a catch here: if the last layer of the model\n",
    "is not a sigmoid, we need to apply it to the logits first to get the probabilities, and\n",
    "only then compare them with the threshold.\n",
    "\n",
    "Then, for each possible class, it figures how many predictions match the labels, and\n",
    "appends the result to a tensor. The shape of the resulting tensor will be (number of\n",
    "classes, 2), the first column representing correct predictions, the second, the\n",
    "number of data points.\n",
    "\n",
    "Let’s try applying this new method to the first mini-batch of our data loader:"
   ]
  },
  {
   "cell_type": "code",
   "execution_count": 92,
   "metadata": {},
   "outputs": [
    {
     "data": {
      "text/plain": [
       "tensor([[5, 7],\n",
       "        [3, 3],\n",
       "        [6, 6]])"
      ]
     },
     "execution_count": 92,
     "metadata": {},
     "output_type": "execute_result"
    }
   ],
   "source": [
    "sbs_cnn1.correct(images_batch, labels_batch)"
   ]
  },
  {
   "cell_type": "markdown",
   "metadata": {},
   "source": [
    "So, there are only two wrong predictions, both for class #0 (parallel lines),\n",
    "corresponding to images #6 and #8, as we’ve already seen in the previous section.\n",
    "\n",
    "> \"What if I want to compute it for all mini-batches in a data loader?\""
   ]
  },
  {
   "cell_type": "markdown",
   "metadata": {},
   "source": [
    "### Loader Apply\n",
    "\n",
    "On it! That’s the role of the static method loader_apply: it applies a function to\n",
    "each mini-batch, and stack the results before applying a reducing function such as\n",
    "sum or mean:"
   ]
  },
  {
   "cell_type": "code",
   "execution_count": 93,
   "metadata": {},
   "outputs": [],
   "source": [
    "@staticmethod\n",
    "def loader_apply(loader, func, reduce='sum'):\n",
    "    results = [func(x, y) for i, (x, y) in enumerate(loader)]\n",
    "    results = torch.stack(results, axis=0)\n",
    "\n",
    "    if reduce == 'sum':\n",
    "        results = results.sum(axis=0)\n",
    "    elif reduce == 'mean':\n",
    "        results = results.float().mean(axis=0)\n",
    "    \n",
    "    return results\n",
    "\n",
    "setattr(StepByStep, 'loader_apply', loader_apply)"
   ]
  },
  {
   "cell_type": "markdown",
   "metadata": {},
   "source": [
    "Since it is a static method, we can call it from the class itself, passing the loader as\n",
    "its first argument, and a function (or method, in this case) as its second argument. It\n",
    "will call the correct method for each mini-batch (as in the example above), and sum\n",
    "all the results up:"
   ]
  },
  {
   "cell_type": "code",
   "execution_count": 94,
   "metadata": {},
   "outputs": [
    {
     "data": {
      "text/plain": [
       "tensor([[59, 67],\n",
       "        [55, 62],\n",
       "        [71, 71]])"
      ]
     },
     "execution_count": 94,
     "metadata": {},
     "output_type": "execute_result"
    }
   ],
   "source": [
    "StepByStep.loader_apply(sbs_cnn1.val_loader, sbs_cnn1.correct)"
   ]
  },
  {
   "cell_type": "markdown",
   "metadata": {},
   "source": [
    "Quite simple, right? This method will be very useful for us in the next chapter when\n",
    "we normalize the images and thus need to compute the mean and standard\n",
    "deviation over all images in the training loader.\n",
    "\n",
    "From the results above, we see that our model got 185 out of 200 images correctly\n",
    "classified in the validation set, an accuracy of 92.5%! Not bad, not bad at all :-)"
   ]
  },
  {
   "cell_type": "markdown",
   "metadata": {},
   "source": [
    "## Putting It All Together\n",
    "\n",
    "In this chapter, we focused mostly on the model configuration part, adding\n",
    "convolutional layers to our model, and defining a different loss function to handle\n",
    "the multiclass classification problem. We have also added some more methods to\n",
    "our class, such that we can visualize the filters learned by our model, attach hooks\n",
    "to the model’s forward pass, and use the captured results to visualize the\n",
    "corresponding feature maps."
   ]
  },
  {
   "cell_type": "markdown",
   "metadata": {},
   "source": [
    "### Data Preparation"
   ]
  },
  {
   "cell_type": "code",
   "execution_count": 95,
   "metadata": {},
   "outputs": [],
   "source": [
    "# Builds tensors from numpy arrays BEFORE split\n",
    "# Modifies the scale of pixel values from [0, 255] to [0, 1]\n",
    "x_tensor = torch.as_tensor(images / 255).float()\n",
    "y_tensor = torch.as_tensor(labels).long()\n",
    "\n",
    "# Uses index_splitter to generate indices for training and\n",
    "# validation sets\n",
    "train_idx, val_idx = index_splitter(len(x_tensor), [80, 20])\n",
    "# Uses indices to perform the split\n",
    "x_train_tensor = x_tensor[train_idx]\n",
    "y_train_tensor = y_tensor[train_idx]\n",
    "x_val_tensor = x_tensor[val_idx]\n",
    "y_val_tensor = y_tensor[val_idx]\n",
    "\n",
    "# We're not doing any data augmentation now\n",
    "train_composer = Compose([Normalize(mean=(.5,), std=(.5,))])\n",
    "val_composer = Compose([Normalize(mean=(.5,), std=(.5,))])\n",
    "\n",
    "# Uses custom dataset to apply composed transforms to each set\n",
    "train_dataset = TransformedTensorDataset(x_train_tensor, y_train_tensor, transform=train_composer)\n",
    "val_dataset = TransformedTensorDataset(x_val_tensor, y_val_tensor, transform=val_composer)\n",
    "\n",
    "# Builds a weighted random sampler to handle imbalanced classes\n",
    "sampler = make_balanced_sampler(y_train_tensor)\n",
    "\n",
    "# Uses sampler in the training set to get a balanced data loader\n",
    "train_loader = DataLoader(dataset=train_dataset, batch_size=16, sampler=sampler)\n",
    "val_loader = DataLoader(dataset=val_dataset, batch_size=16)"
   ]
  },
  {
   "cell_type": "markdown",
   "metadata": {},
   "source": [
    "### Model Configuration"
   ]
  },
  {
   "cell_type": "code",
   "execution_count": 96,
   "metadata": {},
   "outputs": [],
   "source": [
    "torch.manual_seed(13)\n",
    "model_cnn1 = nn.Sequential()\n",
    "\n",
    "# Featurizer\n",
    "# Block 1: 1@10x10 -> n_channels@8x8 -> n_channels@4x4\n",
    "n_channels = 1\n",
    "model_cnn1.add_module('conv1', nn.Conv2d(in_channels=1, out_channels=n_channels, kernel_size=3))\n",
    "model_cnn1.add_module('relu1', nn.ReLU())\n",
    "model_cnn1.add_module('maxp1', nn.MaxPool2d(kernel_size=2))\n",
    "# Flattening: n_channels * 4 * 4\n",
    "model_cnn1.add_module('flatten', nn.Flatten())\n",
    "\n",
    "# Classification\n",
    "# Hidden Layer\n",
    "model_cnn1.add_module('fc1', nn.Linear(in_features=n_channels*4*4, out_features=10))\n",
    "model_cnn1.add_module('relu2', nn.ReLU())\n",
    "# Output Layer\n",
    "model_cnn1.add_module('fc2', nn.Linear(in_features=10, out_features=3))\n",
    "\n",
    "lr = 0.1\n",
    "multi_loss_fn = nn.CrossEntropyLoss(reduction='mean')\n",
    "optimizer_cnn1 = optim.SGD(model_cnn1.parameters(), lr=lr)"
   ]
  },
  {
   "cell_type": "markdown",
   "metadata": {},
   "source": [
    "### Model Training"
   ]
  },
  {
   "cell_type": "code",
   "execution_count": 97,
   "metadata": {},
   "outputs": [],
   "source": [
    "sbs_cnn1 = StepByStep(model_cnn1, multi_loss_fn, optimizer_cnn1)\n",
    "sbs_cnn1.set_loaders(train_loader, val_loader)\n",
    "sbs_cnn1.train(20)"
   ]
  },
  {
   "cell_type": "markdown",
   "metadata": {},
   "source": [
    "### Visualizing Filters"
   ]
  },
  {
   "cell_type": "code",
   "execution_count": 98,
   "metadata": {},
   "outputs": [
    {
     "data": {
      "image/png": "[encoded data removed]",
      "text/plain": [
       "<Figure size 288x144 with 1 Axes>"
      ]
     },
     "metadata": {},
     "output_type": "display_data"
    }
   ],
   "source": [
    "fig_filters = sbs_cnn1.visualize_filters('conv1', cmap='gray')"
   ]
  },
  {
   "cell_type": "markdown",
   "metadata": {},
   "source": [
    "### Capturing Outputs"
   ]
  },
  {
   "cell_type": "code",
   "execution_count": 99,
   "metadata": {},
   "outputs": [],
   "source": [
    "featurizer_layers = ['conv1', 'relu1', 'maxp1', 'flatten']\n",
    "classifier_layers = ['fc1', 'relu2', 'fc2']\n",
    "\n",
    "sbs_cnn1.attach_hooks(layers_to_hook=featurizer_layers + classifier_layers)\n",
    "\n",
    "images_batch, labels_batch = iter(val_loader).next()\n",
    "logits = sbs_cnn1.predict(images_batch)\n",
    "predicted = np.argmax(logits, 1)\n",
    "\n",
    "sbs_cnn1.remove_hooks()"
   ]
  },
  {
   "cell_type": "markdown",
   "metadata": {},
   "source": [
    "### Visualizing Feature Maps"
   ]
  },
  {
   "cell_type": "code",
   "execution_count": 100,
   "metadata": {
    "scrolled": false
   },
   "outputs": [
    {
     "data": {
      "image/png": "[encoded data removed]",
      "text/plain": [
       "<Figure size 1080x432 with 40 Axes>"
      ]
     },
     "metadata": {},
     "output_type": "display_data"
    },
    {
     "data": {
      "image/png": "[encoded data removed]",
      "text/plain": [
       "<Figure size 1080x324 with 30 Axes>"
      ]
     },
     "metadata": {},
     "output_type": "display_data"
    }
   ],
   "source": [
    "with plt.style.context('seaborn-white'):\n",
    "    fig_maps1 = sbs_cnn1.visualize_outputs(featurizer_layers)\n",
    "    fig_maps2 = sbs_cnn1.visualize_outputs(classifier_layers, y=labels_batch, yhat=predicted)    "
   ]
  },
  {
   "cell_type": "markdown",
   "metadata": {},
   "source": [
    "### Accuracy"
   ]
  },
  {
   "cell_type": "code",
   "execution_count": 101,
   "metadata": {},
   "outputs": [
    {
     "data": {
      "text/plain": [
       "tensor([[59, 67],\n",
       "        [55, 62],\n",
       "        [71, 71]])"
      ]
     },
     "execution_count": 101,
     "metadata": {},
     "output_type": "execute_result"
    }
   ],
   "source": [
    "StepByStep.loader_apply(sbs_cnn1.val_loader, sbs_cnn1.correct)"
   ]
  }
 ],
 "metadata": {
  "kernelspec": {
   "display_name": "Python 3 (ipykernel)",
   "language": "python",
   "name": "python3"
  },
  "language_info": {
   "codemirror_mode": {
    "name": "ipython",
    "version": 3
   },
   "file_extension": ".py",
   "mimetype": "text/x-python",
   "name": "python",
   "nbconvert_exporter": "python",
   "pygments_lexer": "ipython3",
   "version": "3.9.7"
  }
 },
 "nbformat": 4,
 "nbformat_minor": 2
}
